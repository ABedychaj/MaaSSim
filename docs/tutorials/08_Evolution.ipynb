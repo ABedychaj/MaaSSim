{
 "cells": [
  {
   "cell_type": "markdown",
   "metadata": {},
   "source": [
    "# Day-to-day evolution of supply and demand\n",
    "Module for simulating ridesourcing evolution\n",
    "\n",
    "Contribution by Arjan de Ruijter - a.j.f.deruijter@tudelft.nl"
   ]
  },
  {
   "cell_type": "code",
   "execution_count": 1,
   "metadata": {},
   "outputs": [],
   "source": [
    "%load_ext autoreload\n",
    "%autoreload 2\n",
    "import os, sys # add MaaSSim and MaaSSim/MaaSSim to path (not needed if already in path)\n",
    "module_path = os.path.abspath(os.path.join('../..'))\n",
    "if module_path not in sys.path:\n",
    "    sys.path.append(module_path)\n",
    "module_path_func = os.path.abspath(os.path.join(module_path,\"MaaSSim\"))\n",
    "if module_path_func not in sys.path:\n",
    "    sys.path.append(module_path_func)"
   ]
  },
  {
   "cell_type": "code",
   "execution_count": 2,
   "metadata": {},
   "outputs": [],
   "source": [
    "from MaaSSim.utils import save_config, get_config, load_G, generate_demand, initialize_df, empty_series, \\\n",
    "    slice_space, test_space\n",
    "from maassim import Simulator\n",
    "from data_structures import structures as inData\n",
    "from d2d import *\n",
    "from MaaSSim.shared import prep_shared_rides\n",
    "# from MaaSSim.simulators import simulate_parallel, single_pararun"
   ]
  },
  {
   "cell_type": "code",
   "execution_count": 3,
   "metadata": {},
   "outputs": [],
   "source": [
    "import pandas as pd\n",
    "import logging\n",
    "import matplotlib.pyplot as plt"
   ]
  },
  {
   "cell_type": "code",
   "execution_count": 25,
   "metadata": {},
   "outputs": [],
   "source": [
    "# Load config\n",
    "params = get_config('../../data/config/delft.json')  # load configuration"
   ]
  },
  {
   "cell_type": "code",
   "execution_count": 7,
   "metadata": {},
   "outputs": [],
   "source": [
    "# Experiment replications and number of threads to be used\n",
    "params.parallel.nReplications = 1\n",
    "params.parallel.nThread = 3\n",
    "\n",
    "# Main experimental settings\n",
    "params.nP = 100 # travellers\n",
    "params.nV = 10 # drivers\n",
    "params.nD = 10 # days\n",
    "params.simTime = 8 # hours"
   ]
  },
  {
   "cell_type": "code",
   "execution_count": 8,
   "metadata": {},
   "outputs": [],
   "source": [
    "# Other day-to-day settings\n",
    "params.evol.drivers.omega = 5 # recency: until this day perfect memory, afterwards weight 1/recency for last experience\n",
    "params.evol.drivers.res_wage.mean = 80 #euros\n",
    "params.evol.drivers.res_wage.std = 20 #euros\n",
    "params.evol.drivers.init_inc_ratio = 1 #expected income of informed drivers at start of sim as ratio of res wage\n",
    "\n",
    "params.evol.drivers.inform.prob_start = 1 # probability of being informed at start of sim\n",
    "params.evol.drivers.inform.beta = 0.2 # information transmission rate\n",
    "\n",
    "params.evol.drivers.regist.prob_start = 1 # probability of being registered if informed at start of sim\n",
    "params.evol.drivers.regist.beta = 0.2 # registration choice model parameter\n",
    "params.evol.drivers.regist.cost_comp = 20 # daily share of registration costs (euros)\n",
    "params.evol.drivers.regist.samp = 0.2 # probability of making regist decision when informed (and unregistered)\n",
    "\n",
    "params.evol.drivers.particip.beta = 0.1 # participation choice model parameter\n",
    "params.evol.drivers.particip.probabilistic = True # stochasticity in participation choice\n",
    "\n",
    "# params.evol.min_it = 10 # minimum number of days in simulation\n",
    "# params.evol.conv = 0.005 # convergence criterion, currently not in use\n",
    "\n",
    "# Financial settings\n",
    "params.platforms.base_fare = 1.4 #euro\n",
    "params.platforms.km_fare = 1.21 #euro/km\n",
    "params.platforms.min_fare = 0 # euro\n",
    "params.platforms.comm_rate = 0.25 #rate\n",
    "params.drivers.fuel_costs = 0.25 #euro/km\n",
    "\n",
    "# Demand settings\n",
    "# params.min_dist = 2 # minimum OD distance when creating requests\n",
    "# params.max_dist = 30 # maximum OD distance\n",
    "\n",
    "# Start time\n",
    "params.t0 = pd.Timestamp.now()"
   ]
  },
  {
   "cell_type": "code",
   "execution_count": 9,
   "metadata": {},
   "outputs": [],
   "source": [
    "inData = load_G(inData, params, stats=True)  # download graph for the 'params.city' and calc the skim matrices\n",
    "inData = generate_demand(inData, params, avg_speed = False)\n",
    "fixed_supply = generate_vehicles_d2d(inData, params)\n",
    "inData.vehicles = fixed_supply.copy()\n",
    "inData.vehicles.platform = inData.vehicles.apply(lambda x: 0, axis = 1)\n",
    "inData.passengers.platforms = inData.passengers.apply(lambda x: [0], axis = 1)\n",
    "inData.requests['platform'] = inData.requests.apply(lambda row: inData.passengers.loc[row.name].platforms[0], axis = 1) \n",
    "inData.platforms = initialize_df(inData.platforms)\n",
    "inData.platforms.loc[0]=[params.platforms.km_fare,params.platforms.base_fare,params.platforms.comm_rate,params.platforms.min_fare,'Uber',30]\n",
    "\n",
    "inData = prep_shared_rides(inData, params.shareability)  # prepare schedules"
   ]
  },
  {
   "cell_type": "code",
   "execution_count": 10,
   "metadata": {},
   "outputs": [
    {
     "name": "stdout",
     "output_type": "stream",
     "text": [
      "10-12-20 11:04:48-WARNING-Setting up 8h simulation at 2020-12-10 07:05:22 for 10 vehicles and 100 passengers in Delft, Netherlands\n",
      "10-12-20 11:04:51-WARNING-day 0: simulation time 2.7 s\n",
      "10-12-20 11:04:51-WARNING-assertion tests for simulation results - passed\n",
      "10-12-20 11:04:54-WARNING-day 1: simulation time 2.6 s\n",
      "10-12-20 11:04:54-WARNING-assertion tests for simulation results - passed\n",
      "10-12-20 11:04:57-WARNING-day 2: simulation time 2.4 s\n",
      "10-12-20 11:04:57-WARNING-assertion tests for simulation results - passed\n",
      "10-12-20 11:05:00-WARNING-day 3: simulation time 2.4 s\n",
      "10-12-20 11:05:00-WARNING-assertion tests for simulation results - passed\n",
      "10-12-20 11:05:03-WARNING-day 4: simulation time 2.4 s\n",
      "10-12-20 11:05:03-WARNING-assertion tests for simulation results - passed\n",
      "10-12-20 11:05:06-WARNING-day 5: simulation time 2.4 s\n",
      "10-12-20 11:05:06-WARNING-assertion tests for simulation results - passed\n",
      "10-12-20 11:05:08-WARNING-day 6: simulation time 2.0 s\n",
      "10-12-20 11:05:08-WARNING-assertion tests for simulation results - passed\n",
      "10-12-20 11:05:11-WARNING-day 7: simulation time 2.7 s\n",
      "10-12-20 11:05:12-WARNING-assertion tests for simulation results - passed\n",
      "10-12-20 11:05:14-WARNING-day 8: simulation time 2.5 s\n",
      "10-12-20 11:05:15-WARNING-assertion tests for simulation results - passed\n",
      "10-12-20 11:05:18-WARNING-day 9: simulation time 2.8 s\n",
      "10-12-20 11:05:18-WARNING-assertion tests for simulation results - passed\n"
     ]
    }
   ],
   "source": [
    "d2d = dict()\n",
    "sim = Simulator(inData, params=params,\n",
    "                    kpi_veh = D2D_veh_exp,\n",
    "                    f_driver_out = D2D_driver_out,\n",
    "                    logger_level=logging.WARNING)  # initialize\n",
    "\n",
    "for day in range(params.get('nD', 1)):  # run iterations\n",
    "    sim.make_and_run(run_id=day)  # prepare and SIM\n",
    "    sim.output()  # calc results\n",
    "\n",
    "    d2d[day] = update_d2d_exp(sim=sim,params=params)\n",
    "    res_inf = word_of_mouth(inData, params = params)\n",
    "    inData.vehicles.informed = res_inf\n",
    "    res_regist = platform_regist(inData, d2d[day], params = params)\n",
    "    inData.vehicles.registered = res_regist.registered\n",
    "    inData.vehicles.expected_income = res_regist.expected_income\n",
    "    inData.vehicles.pos = fixed_supply.pos\n",
    "\n",
    "evol_micro, evol_stats = D2D_summary(d2d) # multi-day stats"
   ]
  },
  {
   "cell_type": "code",
   "execution_count": 23,
   "metadata": {},
   "outputs": [
    {
     "data": {
      "text/plain": [
       "<matplotlib.legend.Legend at 0x21e78798d00>"
      ]
     },
     "execution_count": 23,
     "metadata": {},
     "output_type": "execute_result"
    },
    {
     "data": {
      "image/png": "[encoded data removed]",
      "text/plain": [
       "<Figure size 432x288 with 2 Axes>"
      ]
     },
     "metadata": {
      "needs_background": "light"
     },
     "output_type": "display_data"
    }
   ],
   "source": [
    "# Plot number of drivers and income\n",
    "fig, axes = plt.subplots(nrows=1, ncols=2)\n",
    "evol_stats[['regist','inform','particip']].plot(ax = axes[0])\n",
    "axes[0].set_title('Number of drivers')\n",
    "axes[0].legend(['Informed','Registered','Participating'])\n",
    "evol_stats[['mean_perc_inc','mean_exp_inc']].plot(ax = axes[1])\n",
    "axes[1].set_title('Income')\n",
    "axes[1].legend(['Expected','Experienced'])"
   ]
  }
 ],
 "metadata": {
  "kernelspec": {
   "display_name": "Python 3",
   "language": "python",
   "name": "python3"
  },
  "language_info": {
   "codemirror_mode": {
    "name": "ipython",
    "version": 3
   },
   "file_extension": ".py",
   "mimetype": "text/x-python",
   "name": "python",
   "nbconvert_exporter": "python",
   "pygments_lexer": "ipython3",
   "version": "3.9.0"
  }
 },
 "nbformat": 4,
 "nbformat_minor": 4
}
