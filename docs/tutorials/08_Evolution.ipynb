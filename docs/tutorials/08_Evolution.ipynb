{
 "cells": [
  {
   "cell_type": "markdown",
   "metadata": {},
   "source": [
    "# Day-to-day evolution of supply and demand\n",
    "Module for simulating ridesourcing evolution for various scenarios\n",
    "\n",
    "Contribution by Arjan de Ruijter - a.j.f.deruijter@tudelft.nl"
   ]
  },
  {
   "cell_type": "code",
   "execution_count": null,
   "metadata": {},
   "outputs": [],
   "source": [
    "%load_ext autoreload\n",
    "%autoreload 2\n",
    "import sys\n",
    "sys.path.append('..')\n",
    "from MaaSSim.simulators import simulate, simulate_parallel\n",
    "from dotmap import DotMap"
   ]
  },
  {
   "cell_type": "code",
   "execution_count": null,
   "metadata": {},
   "outputs": [],
   "source": [
    "from MaaSSim.utils import save_config, get_config, load_G, generate_demand, initialize_df, empty_series, \\\n",
    "    slice_space, test_space\n",
    "# from MaaSSim.d2d import "
   ]
  },
  {
   "cell_type": "code",
   "execution_count": null,
   "metadata": {},
   "outputs": [],
   "source": [
    "# Load config\n",
    "params = get_config('../../data/config/delft.json')  # load configuration"
   ]
  },
  {
   "cell_type": "code",
   "execution_count": null,
   "metadata": {},
   "outputs": [],
   "source": [
    "# Experiment replications and number of threads to be used\n",
    "params.parallel.nReplications = 1\n",
    "params.parallel.nThread = 3\n",
    "\n",
    "# Main experimental settings\n",
    "params.nP = 20 # travellers\n",
    "params.nV = 10 # drivers\n",
    "params.evol.nD = 10 # days\n",
    "# params.evol.conv = 0.005 # convergence criterion, currently not in use!!"
   ]
  },
  {
   "cell_type": "code",
   "execution_count": null,
   "metadata": {},
   "outputs": [],
   "source": [
    "# Other day-to-day settings\n",
    "params.evol.drivers.omega = 5 # recency: until this day perfect memory, afterwards weight 1/recency for last experience\n",
    "params.evol.drivers.res_wage.mean = 80 #euros\n",
    "params.evol.drivers.res_wage.std = 20 #euros\n",
    "\n",
    "params.evol.drivers.inform.prob_start = 1 # probability of being informed at start of sim\n",
    "params.evol.drivers.inform.beta = 0.2 # information transmission rate\n",
    "\n",
    "params.evol.drivers.regist.prob_start = 1 # probability of being registered if informed at start of sim\n",
    "params.evol.drivers.regist.beta = 0.2 # registration choice model parameter\n",
    "params.evol.drivers.regist.cost_comp = 20 # daily share of registration costs (euros)\n",
    "params.evol.drivers.regist.samp = 0.2 # probability of making regist decision when informed (and unregistered)\n",
    "\n",
    "params.evol.drivers.particip.beta = 0.1 # participation choice model parameter\n",
    "\n",
    "# Financial settings\n",
    "params.platforms.base_fare = 1.4 #euro\n",
    "params.platforms.km_fare = 1.21 #euro/km\n",
    "params.platforms.km_fare = 1.21 #euro/km\n",
    "params.platforms.min_fare = 0 # euro\n",
    "params.platforms.comm_rate = 0.25 #rate\n",
    "params.drivers.fuel_costs = 0.25 #euro/km\n",
    "\n",
    "# Start time\n",
    "params.t0 = pd.Timestamp.now()\n",
    "\n",
    "# # params.drivers.fuel --> should be in core\n",
    "# params.evol.drivers.init_income\n",
    "# params.evol.min_it = 10\n",
    "# params.evolution.drivers.init_inc_ratio\n",
    "# params.evolution.probabilistic\n",
    "# params.drivers.omega = 5\n",
    "# params.drivers.res_wage.std = 0\n",
    "# params.drivers.res_wage.mean = 80\n",
    "# params.drivers.inform.prob_start = 1\n",
    "# params.drivers.regist.prob_start = 1\n",
    "# params.min_dist\n",
    "# params.max_dist\n",
    "# params.drivers.reservation_wage = 80\n",
    "# params.drivers.init_income_ratio = 1.0\n",
    "# params.drivers.infect.satisf = 0.02\n",
    "# params.drivers.init_income_ratio = 10\n",
    "# params.decis_type = \"something_else\""
   ]
  },
  {
   "cell_type": "code",
   "execution_count": 5,
   "metadata": {},
   "outputs": [],
   "source": [
    "def sample_space():\n",
    "    # Specify scenarios\n",
    "    space = DotMap()\n",
    "    space.nV = [10,20,30]\n",
    "    return space"
   ]
  },
  {
   "cell_type": "code",
   "execution_count": 6,
   "metadata": {},
   "outputs": [
    {
     "ename": "UnboundLocalError",
     "evalue": "local variable 'd2d' referenced before assignment",
     "output_type": "error",
     "traceback": [
      "\u001b[1;31m---------------------------------------------------------------------------\u001b[0m",
      "\u001b[1;31mRemoteTraceback\u001b[0m                           Traceback (most recent call last)",
      "\u001b[1;31mRemoteTraceback\u001b[0m: \n\"\"\"\nTraceback (most recent call last):\n  File \"C:\\Users\\arjanderuijter\\AppData\\Local\\Continuum\\anaconda3\\envs\\MaaSSim-AdR\\lib\\multiprocessing\\pool.py\", line 121, in worker\n    result = (True, func(*args, **kwds))\n  File \"C:\\Users\\arjanderuijter\\AppData\\Local\\Continuum\\anaconda3\\envs\\MaaSSim-AdR\\lib\\multiprocessing\\pool.py\", line 44, in mapstar\n    return list(map(*args))\n  File \"C:\\Users\\arjanderuijter\\AppData\\Local\\Continuum\\anaconda3\\envs\\MaaSSim-AdR\\lib\\site-packages\\scipy\\optimize\\optimize.py\", line 2956, in __call__\n    return self.f(np.asarray(x).flatten(), *self.args)\n  File \"..\\core\\runners.py\", line 55, in single_pararun\n    sim = Exec(inData=inData, params=_params, logger_level=logging.WARNING, filename = filename)\n  File \"..\\core\\runners.py\", line 172, in Exec\n    evol_micro, evol_stats = D2D_summary(d2d)\nUnboundLocalError: local variable 'd2d' referenced before assignment\n\"\"\"",
      "\nThe above exception was the direct cause of the following exception:\n",
      "\u001b[1;31mUnboundLocalError\u001b[0m                         Traceback (most recent call last)",
      "\u001b[1;32m<ipython-input-6-75d863b5d578>\u001b[0m in \u001b[0;36m<module>\u001b[1;34m\u001b[0m\n\u001b[1;32m----> 1\u001b[1;33m \u001b[0mpararun\u001b[0m\u001b[1;33m(\u001b[0m\u001b[0mparams\u001b[0m \u001b[1;33m=\u001b[0m \u001b[0mparams\u001b[0m\u001b[1;33m,\u001b[0m \u001b[0msearch_space\u001b[0m \u001b[1;33m=\u001b[0m \u001b[0msample_space\u001b[0m\u001b[1;33m(\u001b[0m\u001b[1;33m)\u001b[0m\u001b[1;33m)\u001b[0m\u001b[1;33m\u001b[0m\u001b[1;33m\u001b[0m\u001b[0m\n\u001b[0m",
      "\u001b[1;32m~\\Documents\\GitHub\\MaaSSim_sketches\\code\\core\\runners.py\u001b[0m in \u001b[0;36mpararun\u001b[1;34m(config, inData, params, search_space, **kwargs)\u001b[0m\n\u001b[0;32m     84\u001b[0m           \u001b[0mfull_output\u001b[0m\u001b[1;33m=\u001b[0m\u001b[1;32mTrue\u001b[0m\u001b[1;33m,\u001b[0m\u001b[1;33m\u001b[0m\u001b[1;33m\u001b[0m\u001b[0m\n\u001b[0;32m     85\u001b[0m           \u001b[0mfinish\u001b[0m\u001b[1;33m=\u001b[0m\u001b[1;32mNone\u001b[0m\u001b[1;33m,\u001b[0m\u001b[1;33m\u001b[0m\u001b[1;33m\u001b[0m\u001b[0m\n\u001b[1;32m---> 86\u001b[1;33m           workers=params.parallel.nThread)\n\u001b[0m\u001b[0;32m     87\u001b[0m \u001b[1;33m\u001b[0m\u001b[0m\n\u001b[0;32m     88\u001b[0m \u001b[1;33m\u001b[0m\u001b[0m\n",
      "\u001b[1;32m~\\AppData\\Local\\Continuum\\anaconda3\\envs\\MaaSSim-AdR\\lib\\site-packages\\scipy\\optimize\\optimize.py\u001b[0m in \u001b[0;36mbrute\u001b[1;34m(func, ranges, args, Ns, full_output, finish, disp, workers)\u001b[0m\n\u001b[0;32m   2883\u001b[0m     \u001b[1;31m# iterate over input arrays, possibly in parallel\u001b[0m\u001b[1;33m\u001b[0m\u001b[1;33m\u001b[0m\u001b[1;33m\u001b[0m\u001b[0m\n\u001b[0;32m   2884\u001b[0m     \u001b[1;32mwith\u001b[0m \u001b[0mMapWrapper\u001b[0m\u001b[1;33m(\u001b[0m\u001b[0mpool\u001b[0m\u001b[1;33m=\u001b[0m\u001b[0mworkers\u001b[0m\u001b[1;33m)\u001b[0m \u001b[1;32mas\u001b[0m \u001b[0mmapper\u001b[0m\u001b[1;33m:\u001b[0m\u001b[1;33m\u001b[0m\u001b[1;33m\u001b[0m\u001b[0m\n\u001b[1;32m-> 2885\u001b[1;33m         \u001b[0mJout\u001b[0m \u001b[1;33m=\u001b[0m \u001b[0mnp\u001b[0m\u001b[1;33m.\u001b[0m\u001b[0marray\u001b[0m\u001b[1;33m(\u001b[0m\u001b[0mlist\u001b[0m\u001b[1;33m(\u001b[0m\u001b[0mmapper\u001b[0m\u001b[1;33m(\u001b[0m\u001b[0mwrapped_func\u001b[0m\u001b[1;33m,\u001b[0m \u001b[0mgrid\u001b[0m\u001b[1;33m)\u001b[0m\u001b[1;33m)\u001b[0m\u001b[1;33m)\u001b[0m\u001b[1;33m\u001b[0m\u001b[1;33m\u001b[0m\u001b[0m\n\u001b[0m\u001b[0;32m   2886\u001b[0m         \u001b[1;32mif\u001b[0m \u001b[1;33m(\u001b[0m\u001b[0mN\u001b[0m \u001b[1;33m==\u001b[0m \u001b[1;36m1\u001b[0m\u001b[1;33m)\u001b[0m\u001b[1;33m:\u001b[0m\u001b[1;33m\u001b[0m\u001b[1;33m\u001b[0m\u001b[0m\n\u001b[0;32m   2887\u001b[0m             \u001b[0mgrid\u001b[0m \u001b[1;33m=\u001b[0m \u001b[1;33m(\u001b[0m\u001b[0mgrid\u001b[0m\u001b[1;33m,\u001b[0m\u001b[1;33m)\u001b[0m\u001b[1;33m\u001b[0m\u001b[1;33m\u001b[0m\u001b[0m\n",
      "\u001b[1;32m~\\AppData\\Local\\Continuum\\anaconda3\\envs\\MaaSSim-AdR\\lib\\site-packages\\scipy\\_lib\\_util.py\u001b[0m in \u001b[0;36m__call__\u001b[1;34m(self, func, iterable)\u001b[0m\n\u001b[0;32m    410\u001b[0m         \u001b[1;31m# only accept one iterable because that's all Pool.map accepts\u001b[0m\u001b[1;33m\u001b[0m\u001b[1;33m\u001b[0m\u001b[1;33m\u001b[0m\u001b[0m\n\u001b[0;32m    411\u001b[0m         \u001b[1;32mtry\u001b[0m\u001b[1;33m:\u001b[0m\u001b[1;33m\u001b[0m\u001b[1;33m\u001b[0m\u001b[0m\n\u001b[1;32m--> 412\u001b[1;33m             \u001b[1;32mreturn\u001b[0m \u001b[0mself\u001b[0m\u001b[1;33m.\u001b[0m\u001b[0m_mapfunc\u001b[0m\u001b[1;33m(\u001b[0m\u001b[0mfunc\u001b[0m\u001b[1;33m,\u001b[0m \u001b[0miterable\u001b[0m\u001b[1;33m)\u001b[0m\u001b[1;33m\u001b[0m\u001b[1;33m\u001b[0m\u001b[0m\n\u001b[0m\u001b[0;32m    413\u001b[0m         \u001b[1;32mexcept\u001b[0m \u001b[0mTypeError\u001b[0m\u001b[1;33m:\u001b[0m\u001b[1;33m\u001b[0m\u001b[1;33m\u001b[0m\u001b[0m\n\u001b[0;32m    414\u001b[0m             \u001b[1;31m# wrong number of arguments\u001b[0m\u001b[1;33m\u001b[0m\u001b[1;33m\u001b[0m\u001b[1;33m\u001b[0m\u001b[0m\n",
      "\u001b[1;32m~\\AppData\\Local\\Continuum\\anaconda3\\envs\\MaaSSim-AdR\\lib\\multiprocessing\\pool.py\u001b[0m in \u001b[0;36mmap\u001b[1;34m(self, func, iterable, chunksize)\u001b[0m\n\u001b[0;32m    266\u001b[0m         \u001b[1;32min\u001b[0m \u001b[0ma\u001b[0m \u001b[0mlist\u001b[0m \u001b[0mthat\u001b[0m \u001b[1;32mis\u001b[0m \u001b[0mreturned\u001b[0m\u001b[1;33m.\u001b[0m\u001b[1;33m\u001b[0m\u001b[1;33m\u001b[0m\u001b[0m\n\u001b[0;32m    267\u001b[0m         '''\n\u001b[1;32m--> 268\u001b[1;33m         \u001b[1;32mreturn\u001b[0m \u001b[0mself\u001b[0m\u001b[1;33m.\u001b[0m\u001b[0m_map_async\u001b[0m\u001b[1;33m(\u001b[0m\u001b[0mfunc\u001b[0m\u001b[1;33m,\u001b[0m \u001b[0miterable\u001b[0m\u001b[1;33m,\u001b[0m \u001b[0mmapstar\u001b[0m\u001b[1;33m,\u001b[0m \u001b[0mchunksize\u001b[0m\u001b[1;33m)\u001b[0m\u001b[1;33m.\u001b[0m\u001b[0mget\u001b[0m\u001b[1;33m(\u001b[0m\u001b[1;33m)\u001b[0m\u001b[1;33m\u001b[0m\u001b[1;33m\u001b[0m\u001b[0m\n\u001b[0m\u001b[0;32m    269\u001b[0m \u001b[1;33m\u001b[0m\u001b[0m\n\u001b[0;32m    270\u001b[0m     \u001b[1;32mdef\u001b[0m \u001b[0mstarmap\u001b[0m\u001b[1;33m(\u001b[0m\u001b[0mself\u001b[0m\u001b[1;33m,\u001b[0m \u001b[0mfunc\u001b[0m\u001b[1;33m,\u001b[0m \u001b[0miterable\u001b[0m\u001b[1;33m,\u001b[0m \u001b[0mchunksize\u001b[0m\u001b[1;33m=\u001b[0m\u001b[1;32mNone\u001b[0m\u001b[1;33m)\u001b[0m\u001b[1;33m:\u001b[0m\u001b[1;33m\u001b[0m\u001b[1;33m\u001b[0m\u001b[0m\n",
      "\u001b[1;32m~\\AppData\\Local\\Continuum\\anaconda3\\envs\\MaaSSim-AdR\\lib\\multiprocessing\\pool.py\u001b[0m in \u001b[0;36mget\u001b[1;34m(self, timeout)\u001b[0m\n\u001b[0;32m    655\u001b[0m             \u001b[1;32mreturn\u001b[0m \u001b[0mself\u001b[0m\u001b[1;33m.\u001b[0m\u001b[0m_value\u001b[0m\u001b[1;33m\u001b[0m\u001b[1;33m\u001b[0m\u001b[0m\n\u001b[0;32m    656\u001b[0m         \u001b[1;32melse\u001b[0m\u001b[1;33m:\u001b[0m\u001b[1;33m\u001b[0m\u001b[1;33m\u001b[0m\u001b[0m\n\u001b[1;32m--> 657\u001b[1;33m             \u001b[1;32mraise\u001b[0m \u001b[0mself\u001b[0m\u001b[1;33m.\u001b[0m\u001b[0m_value\u001b[0m\u001b[1;33m\u001b[0m\u001b[1;33m\u001b[0m\u001b[0m\n\u001b[0m\u001b[0;32m    658\u001b[0m \u001b[1;33m\u001b[0m\u001b[0m\n\u001b[0;32m    659\u001b[0m     \u001b[1;32mdef\u001b[0m \u001b[0m_set\u001b[0m\u001b[1;33m(\u001b[0m\u001b[0mself\u001b[0m\u001b[1;33m,\u001b[0m \u001b[0mi\u001b[0m\u001b[1;33m,\u001b[0m \u001b[0mobj\u001b[0m\u001b[1;33m)\u001b[0m\u001b[1;33m:\u001b[0m\u001b[1;33m\u001b[0m\u001b[1;33m\u001b[0m\u001b[0m\n",
      "\u001b[1;31mUnboundLocalError\u001b[0m: local variable 'd2d' referenced before assignment"
     ]
    }
   ],
   "source": [
    "simulate_parallel(params = params, search_space = sample_space())"
   ]
  },
  {
   "cell_type": "code",
   "execution_count": null,
   "metadata": {},
   "outputs": [],
   "source": []
  }
 ],
 "metadata": {
  "kernelspec": {
   "display_name": "Python 3",
   "language": "python",
   "name": "python3"
  },
  "language_info": {
   "codemirror_mode": {
    "name": "ipython",
    "version": 3
   },
   "file_extension": ".py",
   "mimetype": "text/x-python",
   "name": "python",
   "nbconvert_exporter": "python",
   "pygments_lexer": "ipython3",
   "version": "3.9.0"
  }
 },
 "nbformat": 4,
 "nbformat_minor": 4
}
