{
 "cells": [
  {
   "cell_type": "code",
   "execution_count": 1,
   "metadata": {},
   "outputs": [],
   "source": [
    "import os, sys # add MaaSSim to path (not needed if MaaSSim is already in path)\n",
    "module_path = os.path.abspath(os.path.join('../..'))\n",
    "if module_path not in sys.path:\n",
    "    sys.path.append(module_path)\n",
    "import MaaSSim"
   ]
  },
  {
   "cell_type": "code",
   "execution_count": 2,
   "metadata": {},
   "outputs": [],
   "source": [
    "#!pip install MaaSSim\n",
    "import MaaSSim.utils\n",
    "import logging\n",
    "from dotmap import DotMap\n",
    "import MaaSSim.simulators\n",
    "from MaaSSim.data_structures import structures as inData"
   ]
  },
  {
   "cell_type": "code",
   "execution_count": 7,
   "metadata": {},
   "outputs": [
    {
     "name": "stdout",
     "output_type": "stream",
     "text": [
      "15-10-20 16:14:52-WARNING-Setting up 4h simulation at 2020-10-15 14:30:01 for 2 vehicles and 5 passengers in Nootdorp, Netherlands\n",
      "15-10-20 16:14:52-INFO--------------------\tStarting simulation\t-------------------\n",
      "15-10-20 16:14:52-INFO-pax    0  got to dest at                           2020-10-15 14:38:36\n",
      "15-10-20 16:14:52-INFO-pax    1  got to dest at                           2020-10-15 15:29:51\n",
      "15-10-20 16:14:52-INFO-pax    2  got to dest at                           2020-10-15 17:17:18\n",
      "15-10-20 16:14:52-INFO-pax    3  got to dest at                           2020-10-15 17:38:32\n",
      "15-10-20 16:14:52-INFO-pax    4  got to dest at                           2020-10-15 18:07:06\n",
      "15-10-20 16:14:52-INFO-veh    1  quitted shift                            2020-10-15 20:30:00\n",
      "15-10-20 16:14:52-INFO-veh    2  quitted shift                            2020-10-15 20:30:00\n",
      "15-10-20 16:14:52-INFO--------------------\tSimulation over\t\t-------------------\n",
      "15-10-20 16:14:52-INFO-queue of requests 0\n",
      "15-10-20 16:14:52-WARNING-simulation time 0.2 s\n",
      "15-10-20 16:14:53-WARNING-assertion tests for simulation results - passed\n",
      "15-10-20 16:14:53-WARNING-Setting up 4h simulation at 2020-10-15 14:30:01 for 2 vehicles and 5 passengers in Nootdorp, Netherlands\n",
      "15-10-20 16:14:53-INFO--------------------\tStarting simulation\t-------------------\n",
      "15-10-20 16:14:53-INFO-pax    0  got to dest at                           2020-10-15 14:40:40\n",
      "15-10-20 16:14:53-INFO-pax    1  got to dest at                           2020-10-15 15:30:10\n",
      "15-10-20 16:14:53-INFO-pax    2  got to dest at                           2020-10-15 17:17:18\n",
      "15-10-20 16:14:53-INFO-pax    3  got to dest at                           2020-10-15 17:38:32\n",
      "15-10-20 16:14:53-INFO-pax    4  got to dest at                           2020-10-15 18:05:24\n",
      "15-10-20 16:14:53-INFO-veh    1  quitted shift                            2020-10-15 20:30:00\n",
      "15-10-20 16:14:53-INFO-veh    2  quitted shift                            2020-10-15 20:30:00\n",
      "15-10-20 16:14:53-INFO--------------------\tSimulation over\t\t-------------------\n",
      "15-10-20 16:14:53-INFO-queue of requests 0\n",
      "15-10-20 16:14:53-WARNING-simulation time 0.2 s\n",
      "15-10-20 16:14:53-WARNING-assertion tests for simulation results - passed\n",
      "15-10-20 16:14:53-WARNING-Setting up 4h simulation at 2020-10-15 14:21:08 for 2 vehicles and 5 passengers in Nootdorp, Netherlands\n",
      "15-10-20 16:14:53-INFO--------------------\tStarting simulation\t-------------------\n",
      "15-10-20 16:14:53-INFO-pax    0  got to dest at                           2020-10-15 14:28:53\n",
      "15-10-20 16:14:53-INFO-pax    1  got to dest at                           2020-10-15 14:33:12\n",
      "15-10-20 16:14:53-INFO-pax    2  got to dest at                           2020-10-15 14:41:19\n",
      "15-10-20 16:14:53-INFO-pax    3  got to dest at                           2020-10-15 17:15:02\n",
      "15-10-20 16:14:53-INFO-pax    4  got to dest at                           2020-10-15 17:52:21\n",
      "15-10-20 16:14:53-INFO-veh    1  quitted shift                            2020-10-15 20:21:07\n",
      "15-10-20 16:14:53-INFO-veh    2  quitted shift                            2020-10-15 20:21:07\n",
      "15-10-20 16:14:53-INFO--------------------\tSimulation over\t\t-------------------\n",
      "15-10-20 16:14:53-INFO-queue of requests 0\n",
      "15-10-20 16:14:53-WARNING-simulation time 0.2 s\n",
      "15-10-20 16:14:54-WARNING-assertion tests for simulation results - passed\n"
     ]
    },
    {
     "ename": "KeyError",
     "evalue": "'%d'",
     "output_type": "error",
     "traceback": [
      "\u001b[0;31m---------------------------------------------------------------------------\u001b[0m",
      "\u001b[0;31mKeyError\u001b[0m                                  Traceback (most recent call last)",
      "\u001b[0;32m<ipython-input-7-a232da1958cc>\u001b[0m in \u001b[0;36m<module>\u001b[0;34m\u001b[0m\n\u001b[1;32m      9\u001b[0m \u001b[0msim_2\u001b[0m \u001b[0;34m=\u001b[0m \u001b[0mMaaSSim\u001b[0m\u001b[0;34m.\u001b[0m\u001b[0msimulators\u001b[0m\u001b[0;34m.\u001b[0m\u001b[0msimulate\u001b[0m\u001b[0;34m(\u001b[0m\u001b[0minData\u001b[0m\u001b[0;34m=\u001b[0m\u001b[0minData\u001b[0m\u001b[0;34m,\u001b[0m\u001b[0mparams\u001b[0m\u001b[0;34m=\u001b[0m\u001b[0mparams\u001b[0m\u001b[0;34m)\u001b[0m \u001b[0;31m# run the second simulation\u001b[0m\u001b[0;34m\u001b[0m\u001b[0;34m\u001b[0m\u001b[0m\n\u001b[1;32m     10\u001b[0m print('Total waiting time: {%d}s in first simulation and {%d}s in the second.'.format(sim_1.res[0].pax_exp['WAIT'].sum(),\n\u001b[0;32m---> 11\u001b[0;31m       sim_2.res[0].pax_exp['WAIT'].sum()))  # compare some results\n\u001b[0m\u001b[1;32m     12\u001b[0m \u001b[0mspace\u001b[0m \u001b[0;34m=\u001b[0m \u001b[0mDotMap\u001b[0m\u001b[0;34m(\u001b[0m\u001b[0;34m)\u001b[0m\u001b[0;34m\u001b[0m\u001b[0;34m\u001b[0m\u001b[0m\n\u001b[1;32m     13\u001b[0m \u001b[0mspace\u001b[0m\u001b[0;34m.\u001b[0m\u001b[0mnP\u001b[0m \u001b[0;34m=\u001b[0m \u001b[0;34m[\u001b[0m\u001b[0;36m5\u001b[0m\u001b[0;34m,\u001b[0m\u001b[0;36m10\u001b[0m\u001b[0;34m,\u001b[0m\u001b[0;36m20\u001b[0m\u001b[0;34m]\u001b[0m \u001b[0;31m# define the search space to explore in experiments\u001b[0m\u001b[0;34m\u001b[0m\u001b[0;34m\u001b[0m\u001b[0m\n",
      "\u001b[0;31mKeyError\u001b[0m: '%d'"
     ]
    }
   ],
   "source": [
    "sim = MaaSSim.simulators.simulate(config = 'glance.json')  # run the simulation from a given configuration\n",
    "sim.runs[0].trips  # access the results\n",
    "params = MaaSSim.utils.get_config('glance.json')  # load configuration\n",
    "params.city = \"Nootdorp, Netherlands\" # modify it\n",
    "inData = MaaSSim.utils.load_G(inData,params)  # load the graph for a different city\n",
    "sim_1 = MaaSSim.simulators.simulate(params=params) # run the simulation\n",
    "params.nP = 5 # change number of travellers\n",
    "inData = MaaSSim.utils.prep_supply_and_demand(inData, params)  # regenerate supply and demand\n",
    "sim_2 = MaaSSim.simulators.simulate(inData=inData,params=params) # run the second simulation\n",
    "print('Total waiting time: {}s in first simulation and {}s in the second.'.format(sim_1.res[0].pax_exp['WAIT'].sum(),\n",
    "      sim_2.res[0].pax_exp['WAIT'].sum()))  # compare some results\n",
    "space = DotMap()\n",
    "space.nP = [5,10,20] # define the search space to explore in experiments\n",
    "MaaSSim.simulators.simulate_parallel(inData=inData, params=params, search_space = space, logger_level = logging.WARNING) # run parallel experiments\n",
    "res = MaaSSim.utils.collect_results(params.paths.dumps) # collect results from  parallel experiments\n",
    "\n",
    "def my_function(**kwargs): # user defined function to represent agent decisions\n",
    "    veh = kwargs.get('veh', None)  # input from simulation\n",
    "    sim = veh.sim  # access to simulation object\n",
    "    if len(sim.runs) > 0:\n",
    "        if sim.res[last_run].veh_exp.loc[veh.id].nRIDES > 3:\n",
    "            return False # if I had more than 3 rides yesterday I stay\n",
    "        else:\n",
    "            return True # otherwise I leave\n",
    "    else:\n",
    "        return True # I do not leave on first day\n",
    "        \n",
    "sim = MaaSSim.simulators.simulate(inData=inData,params=params, f_driver_out = my_function, logger_level = logging.INFO) # simulate with my user defined function"
   ]
  },
  {
   "cell_type": "code",
   "execution_count": null,
   "metadata": {},
   "outputs": [],
   "source": []
  }
 ],
 "metadata": {
  "kernelspec": {
   "display_name": "Python 3",
   "language": "python",
   "name": "python3"
  },
  "language_info": {
   "codemirror_mode": {
    "name": "ipython",
    "version": 3
   },
   "file_extension": ".py",
   "mimetype": "text/x-python",
   "name": "python",
   "nbconvert_exporter": "python",
   "pygments_lexer": "ipython3",
   "version": "3.7.6"
  }
 },
 "nbformat": 4,
 "nbformat_minor": 4
}
