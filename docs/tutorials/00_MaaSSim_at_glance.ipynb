{
 "cells": [
  {
   "cell_type": "code",
   "execution_count": 1,
   "metadata": {},
   "outputs": [],
   "source": [
    "import os, sys # add MaaSSim to path (not needed if MaaSSim is already in path)\n",
    "module_path = os.path.abspath(os.path.join('../..'))\n",
    "if module_path not in sys.path:\n",
    "    sys.path.append(module_path)\n",
    "import MaaSSim"
   ]
  },
  {
   "cell_type": "code",
   "execution_count": 2,
   "metadata": {},
   "outputs": [],
   "source": [
    "#!pip install MaaSSim\n",
    "import MaaSSim.utils\n",
    "import logging\n",
    "from dotmap import DotMap\n",
    "import MaaSSim.simulators\n",
    "from MaaSSim.data_structures import structures as inData"
   ]
  },
  {
   "cell_type": "code",
   "execution_count": 3,
   "metadata": {},
   "outputs": [
    {
     "name": "stdout",
     "output_type": "stream",
     "text": [
      "14-10-20 15:58:06-WARNING-Setting up 4h simulation at 2020-10-14 15:13:19 for 2 vehicles and 5 passengers in Nootdorp, Netherlands\n",
      "14-10-20 15:58:06-INFO--------------------\tStarting simulation\t-------------------\n",
      "14-10-20 15:58:06-INFO-pax    0  got to dest at                           2020-10-14 15:18:56\n",
      "14-10-20 15:58:06-INFO-pax    1  got to dest at                           2020-10-14 15:26:01\n",
      "14-10-20 15:58:06-INFO-pax    2  got to dest at                           2020-10-14 17:45:57\n",
      "14-10-20 15:58:06-INFO-pax    3  got to dest at                           2020-10-14 17:59:09\n",
      "14-10-20 15:58:06-INFO-pax    4  got to dest at                           2020-10-14 18:02:49\n",
      "14-10-20 15:58:06-INFO-veh    2  quitted shift                            2020-10-14 21:13:18\n",
      "14-10-20 15:58:06-INFO-veh    1  quitted shift                            2020-10-14 21:13:18\n",
      "14-10-20 15:58:06-INFO--------------------\tSimulation over\t\t-------------------\n",
      "14-10-20 15:58:06-INFO-queue of requests 0\n",
      "14-10-20 15:58:06-WARNING-simulation time 0.2 s\n",
      "14-10-20 15:58:06-WARNING-assertion tests for simulation results - passed\n"
     ]
    },
    {
     "ename": "TypeError",
     "evalue": "download_G() got an unexpected keyword argument 'params'",
     "output_type": "error",
     "traceback": [
      "\u001b[0;31m---------------------------------------------------------------------------\u001b[0m",
      "\u001b[0;31mTypeError\u001b[0m                                 Traceback (most recent call last)",
      "\u001b[0;32m<ipython-input-3-98a6a9c1cae3>\u001b[0m in \u001b[0;36m<module>\u001b[0;34m\u001b[0m\n\u001b[1;32m      3\u001b[0m \u001b[0mparams\u001b[0m \u001b[0;34m=\u001b[0m \u001b[0mMaaSSim\u001b[0m\u001b[0;34m.\u001b[0m\u001b[0mutils\u001b[0m\u001b[0;34m.\u001b[0m\u001b[0mget_config\u001b[0m\u001b[0;34m(\u001b[0m\u001b[0;34m'glance.json'\u001b[0m\u001b[0;34m)\u001b[0m  \u001b[0;31m# load configuration\u001b[0m\u001b[0;34m\u001b[0m\u001b[0;34m\u001b[0m\u001b[0m\n\u001b[1;32m      4\u001b[0m \u001b[0mparams\u001b[0m\u001b[0;34m.\u001b[0m\u001b[0mcity\u001b[0m \u001b[0;34m=\u001b[0m \u001b[0;34m\"Nootdorp, Netherlands\"\u001b[0m \u001b[0;31m# modify it\u001b[0m\u001b[0;34m\u001b[0m\u001b[0;34m\u001b[0m\u001b[0m\n\u001b[0;32m----> 5\u001b[0;31m \u001b[0minData\u001b[0m \u001b[0;34m=\u001b[0m \u001b[0mMaaSSim\u001b[0m\u001b[0;34m.\u001b[0m\u001b[0mutils\u001b[0m\u001b[0;34m.\u001b[0m\u001b[0mdownload_G\u001b[0m\u001b[0;34m(\u001b[0m\u001b[0minData\u001b[0m\u001b[0;34m=\u001b[0m\u001b[0minData\u001b[0m\u001b[0;34m,\u001b[0m\u001b[0mparams\u001b[0m\u001b[0;34m=\u001b[0m\u001b[0mparams\u001b[0m\u001b[0;34m)\u001b[0m  \u001b[0;31m# download the graph for a new city\u001b[0m\u001b[0;34m\u001b[0m\u001b[0;34m\u001b[0m\u001b[0m\n\u001b[0m\u001b[1;32m      6\u001b[0m \u001b[0msim\u001b[0m \u001b[0;34m=\u001b[0m \u001b[0mMaaSSim\u001b[0m\u001b[0;34m.\u001b[0m\u001b[0msimulators\u001b[0m\u001b[0;34m.\u001b[0m\u001b[0msimulate\u001b[0m\u001b[0;34m(\u001b[0m\u001b[0minData\u001b[0m\u001b[0;34m=\u001b[0m\u001b[0minData\u001b[0m\u001b[0;34m,\u001b[0m\u001b[0mparams\u001b[0m\u001b[0;34m=\u001b[0m\u001b[0mparams\u001b[0m\u001b[0;34m)\u001b[0m \u001b[0;31m# run the simulation\u001b[0m\u001b[0;34m\u001b[0m\u001b[0;34m\u001b[0m\u001b[0m\n\u001b[1;32m      7\u001b[0m \u001b[0mparams\u001b[0m\u001b[0;34m.\u001b[0m\u001b[0mnP\u001b[0m \u001b[0;34m=\u001b[0m \u001b[0;36m5\u001b[0m \u001b[0;31m# change number of travellers\u001b[0m\u001b[0;34m\u001b[0m\u001b[0;34m\u001b[0m\u001b[0m\n",
      "\u001b[0;31mTypeError\u001b[0m: download_G() got an unexpected keyword argument 'params'"
     ]
    }
   ],
   "source": [
    "sim = MaaSSim.simulators.simulate(config = 'glance.json')  # run the simulation from a given configuration\n",
    "sim.runs[0].trips  # access the results\n",
    "params = MaaSSim.utils.get_config('glance.json')  # load configuration\n",
    "params.city = \"Nootdorp, Netherlands\" # modify it\n",
    "inData = MaaSSim.utils.download_G(inData=inData,params=params)  # download the graph for a new city\n",
    "sim = MaaSSim.simulators.simulate(inData=inData,params=params) # run the simulation\n",
    "params.nP = 5 # change number of travellers\n",
    "inData = MaaSSim.utils.prep_supply_and_demand(inData, params)  # regenerate supply and demand\n",
    "sim_2 = MaaSSim.simulators.simulate(inData=inData,params=params, logger_level = logging.WARNING) # run the second simulation\n",
    "print('Total waiting time: {} in first simulation and {} in second.'.format(sim_1.res[0].pax_kpi.loc['sum'].MEETS_DRIVER_AT_PICKUP,\n",
    "      sim_2.res[0].pax_kpi.loc['sum'].MEETS_DRIVER_AT_PICKUP))  # compare some results\n",
    "space = DotMap()\n",
    "space.nP = [5,10,20] # define the search space to explore in experiments\n",
    "MaaSSim.simulators.simulate_parallel(inData=inData, params=params, search_space = space, logger_level = logging.WARNING) # run parallel experiments\n",
    "res = MaaSSim.utils.collect_results(params.paths.dumps) # collect results from  parallel experiments\n",
    "\n",
    "def my_function(**kwargs): # user defined function to represent agent decisions\n",
    "    veh = kwargs.get('veh', None)  # input from simulation\n",
    "    sim = veh.sim  # access to simulation object\n",
    "    if len(sim.runs) > 0:\n",
    "        if sim.res[last_run].veh_exp.loc[veh.id].nRIDES > 3:\n",
    "            return False # if I had more than 3 rides yesterday I stay\n",
    "        else:\n",
    "            return True # otherwise I leave\n",
    "    else:\n",
    "        return True # I do not leave on first day\n",
    "        \n",
    "sim = MaaSSim.simulators.simulate(inData=inData,params=params, f_driver_out = my_function, logger_level = logging.INFO) # simulate with my user defined function"
   ]
  },
  {
   "cell_type": "code",
   "execution_count": null,
   "metadata": {},
   "outputs": [],
   "source": []
  }
 ],
 "metadata": {
  "kernelspec": {
   "display_name": "Python 3",
   "language": "python",
   "name": "python3"
  },
  "language_info": {
   "codemirror_mode": {
    "name": "ipython",
    "version": 3
   },
   "file_extension": ".py",
   "mimetype": "text/x-python",
   "name": "python",
   "nbconvert_exporter": "python",
   "pygments_lexer": "ipython3",
   "version": "3.7.6"
  }
 },
 "nbformat": 4,
 "nbformat_minor": 4
}
