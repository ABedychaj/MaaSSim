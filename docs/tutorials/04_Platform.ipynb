{
 "cells": [
  {
   "cell_type": "markdown",
   "metadata": {},
   "source": [
    ">\n",
    "> # MaaS Sim tutorial\n",
    ">\n",
    "> ## Platform operating two sided queues\n",
    ">\n",
    "-----\n",
    "demonstrate if system works fine when `demand>supply`, and `supply>demand`"
   ]
  },
  {
   "cell_type": "code",
   "execution_count": 1,
   "metadata": {},
   "outputs": [],
   "source": [
    "import os, sys # add MaaSSim to path (not needed if MaaSSim is already in path)\n",
    "module_path = os.path.abspath(os.path.join('../..'))\n",
    "if module_path not in sys.path:\n",
    "    sys.path.append(module_path)"
   ]
  },
  {
   "cell_type": "code",
   "execution_count": 2,
   "metadata": {},
   "outputs": [],
   "source": [
    "import MaaSSim\n",
    "import MaaSSim.utils\n",
    "import logging\n",
    "from MaaSSim.simulators import simulate\n",
    "from MaaSSim.driver import VehicleAgent, driverEvent\n",
    "from MaaSSim.data_structures import structures as inData"
   ]
  },
  {
   "cell_type": "code",
   "execution_count": 5,
   "metadata": {},
   "outputs": [],
   "source": [
    "params = MaaSSim.utils.get_config('../../data/config/default.json')"
   ]
  },
  {
   "cell_type": "code",
   "execution_count": 6,
   "metadata": {},
   "outputs": [],
   "source": [
    "def testQ(params, nP = 10,nV = 10):\n",
    "    params.times.patience = 3600 # 1 hour of simulation\n",
    "    params.simTime = 1 # 1 hour of simulation\n",
    "    params.nP = nP # reuqests (and passengers)\n",
    "    params.nV = nV # vehicles\n",
    "    sim = simulate(params = params)\n",
    "    Qs = sim.runs[0].queues\n",
    "    Qs.groupby('platform')[['vehQ','reqQ']].plot(drawstyle = 'steps-post')    \n",
    "    return sim"
   ]
  },
  {
   "cell_type": "code",
   "execution_count": 7,
   "metadata": {},
   "outputs": [
    {
     "name": "stdout",
     "output_type": "stream",
     "text": [
      "01-10-20 11:39:23-WARNING-Setting up 1h simulation at 2020-10-01 11:13:25 for 5 vehicles and 15 passengers in Nootdorp, Netherlands\n",
      "01-10-20 11:39:23-INFO--------------------\tStarting simulation\t-------------------\n",
      "01-10-20 11:39:23-INFO-pax    1  got to dest at                           2020-10-01 11:19:14\n",
      "01-10-20 11:39:23-INFO-pax    0  got to dest at                           2020-10-01 11:20:24\n",
      "01-10-20 11:39:23-INFO-pax    2  got to dest at                           2020-10-01 11:28:17\n",
      "01-10-20 11:39:23-INFO-pax    3  got to dest at                           2020-10-01 11:31:37\n",
      "01-10-20 11:39:23-INFO-pax    4  got to dest at                           2020-10-01 11:37:34\n",
      "01-10-20 11:39:23-INFO-pax    5  got to dest at                           2020-10-01 11:37:55\n",
      "01-10-20 11:39:23-INFO-pax    6  got to dest at                           2020-10-01 11:53:21\n",
      "01-10-20 11:39:23-INFO-pax    8  got to dest at                           2020-10-01 11:56:00\n",
      "01-10-20 11:39:23-INFO-pax    7  got to dest at                           2020-10-01 11:57:03\n",
      "01-10-20 11:39:23-INFO-pax   10  got to dest at                           2020-10-01 12:00:05\n",
      "01-10-20 11:39:23-INFO-pax    9  got to dest at                           2020-10-01 12:01:09\n",
      "01-10-20 11:39:23-INFO-pax   13  got to dest at                           2020-10-01 12:07:16\n",
      "01-10-20 11:39:23-INFO-pax   11  got to dest at                           2020-10-01 12:07:34\n",
      "01-10-20 11:39:23-INFO-pax   12  got to dest at                           2020-10-01 12:10:17\n",
      "01-10-20 11:39:23-INFO-pax   14  got to dest at                           2020-10-01 12:17:38\n",
      "01-10-20 11:39:23-INFO-veh    1  quitted shift                            2020-10-01 14:13:24\n",
      "01-10-20 11:39:23-INFO-veh    3  quitted shift                            2020-10-01 14:13:24\n",
      "01-10-20 11:39:23-INFO-veh    2  quitted shift                            2020-10-01 14:13:24\n",
      "01-10-20 11:39:23-INFO-veh    5  quitted shift                            2020-10-01 14:13:24\n",
      "01-10-20 11:39:23-INFO-veh    4  quitted shift                            2020-10-01 14:13:24\n",
      "01-10-20 11:39:23-INFO--------------------\tSimulation over\t\t-------------------\n",
      "01-10-20 11:39:23-INFO-queue of requests 0\n",
      "01-10-20 11:39:23-WARNING-simulation time 0.5 s\n",
      "01-10-20 11:39:24-WARNING-assertion tests for simulation results - passed\n"
     ]
    },
    {
     "data": {
      "image/png": "[encoded data removed]",
      "text/plain": [
       "<Figure size 432x288 with 1 Axes>"
      ]
     },
     "metadata": {
      "needs_background": "light"
     },
     "output_type": "display_data"
    }
   ],
   "source": [
    "sim = testQ(params, nP = 15, nV = 5)"
   ]
  },
  {
   "cell_type": "code",
   "execution_count": 8,
   "metadata": {},
   "outputs": [
    {
     "name": "stdout",
     "output_type": "stream",
     "text": [
      "01-10-20 11:39:27-WARNING-Setting up 1h simulation at 2020-10-01 11:09:50 for 50 vehicles and 5 passengers in Nootdorp, Netherlands\n",
      "01-10-20 11:39:27-INFO--------------------\tStarting simulation\t-------------------\n",
      "01-10-20 11:39:27-INFO-pax    0  got to dest at                           2020-10-01 11:15:23\n",
      "01-10-20 11:39:27-INFO-pax    1  got to dest at                           2020-10-01 11:15:46\n",
      "01-10-20 11:39:27-INFO-pax    2  got to dest at                           2020-10-01 11:30:01\n",
      "01-10-20 11:39:27-INFO-pax    3  got to dest at                           2020-10-01 11:45:45\n",
      "01-10-20 11:39:27-INFO-pax    4  got to dest at                           2020-10-01 11:53:33\n",
      "01-10-20 11:39:27-INFO-veh    2  quitted shift                            2020-10-01 14:09:49\n",
      "01-10-20 11:39:27-INFO-veh    3  quitted shift                            2020-10-01 14:09:49\n",
      "01-10-20 11:39:27-INFO-veh    4  quitted shift                            2020-10-01 14:09:49\n",
      "01-10-20 11:39:27-INFO-veh    5  quitted shift                            2020-10-01 14:09:49\n",
      "01-10-20 11:39:27-INFO-veh    6  quitted shift                            2020-10-01 14:09:49\n",
      "01-10-20 11:39:27-INFO-veh    7  quitted shift                            2020-10-01 14:09:49\n",
      "01-10-20 11:39:27-INFO-veh    8  quitted shift                            2020-10-01 14:09:49\n",
      "01-10-20 11:39:27-INFO-veh    9  quitted shift                            2020-10-01 14:09:49\n",
      "01-10-20 11:39:27-INFO-veh   10  quitted shift                            2020-10-01 14:09:49\n",
      "01-10-20 11:39:27-INFO-veh   11  quitted shift                            2020-10-01 14:09:49\n",
      "01-10-20 11:39:27-INFO-veh   12  quitted shift                            2020-10-01 14:09:49\n",
      "01-10-20 11:39:27-INFO-veh   13  quitted shift                            2020-10-01 14:09:49\n",
      "01-10-20 11:39:27-INFO-veh   14  quitted shift                            2020-10-01 14:09:49\n",
      "01-10-20 11:39:27-INFO-veh   15  quitted shift                            2020-10-01 14:09:49\n",
      "01-10-20 11:39:27-INFO-veh   16  quitted shift                            2020-10-01 14:09:49\n",
      "01-10-20 11:39:27-INFO-veh   17  quitted shift                            2020-10-01 14:09:49\n",
      "01-10-20 11:39:27-INFO-veh   18  quitted shift                            2020-10-01 14:09:49\n",
      "01-10-20 11:39:27-INFO-veh   19  quitted shift                            2020-10-01 14:09:49\n",
      "01-10-20 11:39:27-INFO-veh   20  quitted shift                            2020-10-01 14:09:49\n",
      "01-10-20 11:39:27-INFO-veh   21  quitted shift                            2020-10-01 14:09:49\n",
      "01-10-20 11:39:27-INFO-veh   22  quitted shift                            2020-10-01 14:09:49\n",
      "01-10-20 11:39:27-INFO-veh   23  quitted shift                            2020-10-01 14:09:49\n",
      "01-10-20 11:39:27-INFO-veh   24  quitted shift                            2020-10-01 14:09:49\n",
      "01-10-20 11:39:27-INFO-veh   25  quitted shift                            2020-10-01 14:09:49\n",
      "01-10-20 11:39:27-INFO-veh   26  quitted shift                            2020-10-01 14:09:49\n",
      "01-10-20 11:39:27-INFO-veh   27  quitted shift                            2020-10-01 14:09:49\n",
      "01-10-20 11:39:27-INFO-veh   28  quitted shift                            2020-10-01 14:09:49\n",
      "01-10-20 11:39:27-INFO-veh   29  quitted shift                            2020-10-01 14:09:49\n",
      "01-10-20 11:39:27-INFO-veh   30  quitted shift                            2020-10-01 14:09:49\n",
      "01-10-20 11:39:27-INFO-veh   31  quitted shift                            2020-10-01 14:09:49\n",
      "01-10-20 11:39:27-INFO-veh   32  quitted shift                            2020-10-01 14:09:49\n",
      "01-10-20 11:39:27-INFO-veh   33  quitted shift                            2020-10-01 14:09:49\n",
      "01-10-20 11:39:27-INFO-veh   34  quitted shift                            2020-10-01 14:09:49\n",
      "01-10-20 11:39:27-INFO-veh   37  quitted shift                            2020-10-01 14:09:49\n",
      "01-10-20 11:39:27-INFO-veh   38  quitted shift                            2020-10-01 14:09:49\n",
      "01-10-20 11:39:27-INFO-veh   39  quitted shift                            2020-10-01 14:09:49\n",
      "01-10-20 11:39:27-INFO-veh   40  quitted shift                            2020-10-01 14:09:49\n",
      "01-10-20 11:39:27-INFO-veh   41  quitted shift                            2020-10-01 14:09:49\n",
      "01-10-20 11:39:27-INFO-veh   43  quitted shift                            2020-10-01 14:09:49\n",
      "01-10-20 11:39:27-INFO-veh   44  quitted shift                            2020-10-01 14:09:49\n",
      "01-10-20 11:39:27-INFO-veh   45  quitted shift                            2020-10-01 14:09:49\n",
      "01-10-20 11:39:27-INFO-veh   46  quitted shift                            2020-10-01 14:09:49\n",
      "01-10-20 11:39:27-INFO-veh   47  quitted shift                            2020-10-01 14:09:49\n",
      "01-10-20 11:39:27-INFO-veh   48  quitted shift                            2020-10-01 14:09:49\n",
      "01-10-20 11:39:27-INFO-veh   49  quitted shift                            2020-10-01 14:09:49\n",
      "01-10-20 11:39:27-INFO-veh    1  quitted shift                            2020-10-01 14:09:49\n",
      "01-10-20 11:39:27-INFO-veh   36  quitted shift                            2020-10-01 14:09:49\n",
      "01-10-20 11:39:27-INFO-veh   42  quitted shift                            2020-10-01 14:09:49\n",
      "01-10-20 11:39:27-INFO-veh   35  quitted shift                            2020-10-01 14:09:49\n",
      "01-10-20 11:39:27-INFO-veh   50  quitted shift                            2020-10-01 14:09:49\n",
      "01-10-20 11:39:27-INFO--------------------\tSimulation over\t\t-------------------\n",
      "01-10-20 11:39:27-INFO-queue of requests 0\n",
      "01-10-20 11:39:27-WARNING-simulation time 0.5 s\n",
      "01-10-20 11:39:27-WARNING-assertion tests for simulation results - passed\n"
     ]
    },
    {
     "data": {
      "text/plain": [
       "<MaaSSim.maassim.Simulator at 0x12c040210>"
      ]
     },
     "execution_count": 8,
     "metadata": {},
     "output_type": "execute_result"
    },
    {
     "data": {
      "image/png": "[encoded data removed]",
      "text/plain": [
       "<Figure size 432x288 with 1 Axes>"
      ]
     },
     "metadata": {
      "needs_background": "light"
     },
     "output_type": "display_data"
    }
   ],
   "source": [
    "testQ(params, nP = 5, nV = 50)"
   ]
  },
  {
   "cell_type": "code",
   "execution_count": 9,
   "metadata": {},
   "outputs": [
    {
     "name": "stdout",
     "output_type": "stream",
     "text": [
      "01-10-20 11:39:30-WARNING-Setting up 1h simulation at 2020-10-01 11:10:37 for 3 vehicles and 50 passengers in Nootdorp, Netherlands\n",
      "01-10-20 11:39:30-INFO--------------------\tStarting simulation\t-------------------\n",
      "01-10-20 11:39:30-INFO-pax    0  got to dest at                           2020-10-01 11:17:11\n",
      "01-10-20 11:39:30-INFO-pax    1  got to dest at                           2020-10-01 11:18:45\n",
      "01-10-20 11:39:30-INFO-pax    3  got to dest at                           2020-10-01 11:22:30\n",
      "01-10-20 11:39:30-INFO-pax    4  got to dest at                           2020-10-01 11:23:46\n",
      "01-10-20 11:39:30-INFO-pax    2  got to dest at                           2020-10-01 11:26:35\n",
      "01-10-20 11:39:30-INFO-pax    6  got to dest at                           2020-10-01 11:28:44\n",
      "01-10-20 11:39:30-INFO-pax    5  got to dest at                           2020-10-01 11:32:10\n",
      "01-10-20 11:39:30-INFO-pax    8  got to dest at                           2020-10-01 11:34:23\n",
      "01-10-20 11:39:30-INFO-pax   11  got to dest at                           2020-10-01 11:36:14\n",
      "01-10-20 11:39:31-INFO-pax    7  got to dest at                           2020-10-01 11:37:25\n",
      "01-10-20 11:39:31-INFO-pax   10  got to dest at                           2020-10-01 11:39:06\n",
      "01-10-20 11:39:31-INFO-pax   15  got to dest at                           2020-10-01 11:39:40\n",
      "01-10-20 11:39:31-INFO-pax   17  got to dest at                           2020-10-01 11:40:19\n",
      "01-10-20 11:39:31-INFO-pax   20  got to dest at                           2020-10-01 11:44:05\n",
      "01-10-20 11:39:31-INFO-pax   13  got to dest at                           2020-10-01 11:44:06\n",
      "01-10-20 11:39:31-INFO-pax   21  got to dest at                           2020-10-01 11:45:41\n",
      "01-10-20 11:39:31-INFO-pax   23  got to dest at                           2020-10-01 11:48:15\n",
      "01-10-20 11:39:31-INFO-pax   25  got to dest at                           2020-10-01 11:48:45\n",
      "01-10-20 11:39:31-INFO-pax   12  got to dest at                           2020-10-01 11:52:23\n",
      "01-10-20 11:39:31-INFO-pax   14  got to dest at                           2020-10-01 11:53:11\n",
      "01-10-20 11:39:31-INFO-pax    9  got to dest at                           2020-10-01 11:53:40\n",
      "01-10-20 11:39:31-INFO-pax   28  got to dest at                           2020-10-01 11:56:40\n",
      "01-10-20 11:39:31-INFO-pax   24  got to dest at                           2020-10-01 11:57:06\n",
      "01-10-20 11:39:31-INFO-pax   35  got to dest at                           2020-10-01 11:58:55\n",
      "01-10-20 11:39:31-INFO-pax   27  got to dest at                           2020-10-01 11:59:36\n",
      "01-10-20 11:39:31-INFO-pax   16  got to dest at                           2020-10-01 12:01:51\n",
      "01-10-20 11:39:31-INFO-pax   19  got to dest at                           2020-10-01 12:02:17\n",
      "01-10-20 11:39:31-INFO-pax   30  got to dest at                           2020-10-01 12:03:28\n",
      "01-10-20 11:39:31-INFO-pax   32  got to dest at                           2020-10-01 12:05:58\n",
      "01-10-20 11:39:31-INFO-pax   42  got to dest at                           2020-10-01 12:06:04\n",
      "01-10-20 11:39:31-INFO-pax   36  got to dest at                           2020-10-01 12:06:34\n",
      "01-10-20 11:39:31-INFO-pax   44  got to dest at                           2020-10-01 12:09:21\n",
      "01-10-20 11:39:31-INFO-pax   29  got to dest at                           2020-10-01 12:12:39\n",
      "01-10-20 11:39:31-INFO-pax   46  got to dest at                           2020-10-01 12:13:17\n",
      "01-10-20 11:39:31-INFO-pax   34  got to dest at                           2020-10-01 12:13:33\n",
      "01-10-20 11:39:31-INFO-pax   45  got to dest at                           2020-10-01 12:16:18\n",
      "01-10-20 11:39:31-INFO-pax   37  got to dest at                           2020-10-01 12:18:18\n",
      "01-10-20 11:39:31-INFO-pax   22  got to dest at                           2020-10-01 12:18:31\n",
      "01-10-20 11:39:32-INFO-pax   49  got to dest at                           2020-10-01 12:21:23\n",
      "01-10-20 11:39:32-INFO-pax   38  got to dest at                           2020-10-01 12:22:58\n",
      "01-10-20 11:39:32-INFO-pax   26  got to dest at                           2020-10-01 12:23:41\n",
      "01-10-20 11:39:32-INFO-pax   43  got to dest at                           2020-10-01 12:24:47\n",
      "01-10-20 11:39:32-INFO-pax   33  got to dest at                           2020-10-01 12:30:11\n",
      "01-10-20 11:39:32-INFO-pax   47  got to dest at                           2020-10-01 12:30:47\n",
      "01-10-20 11:39:32-INFO-pax   39  got to dest at                           2020-10-01 12:33:22\n",
      "01-10-20 11:39:32-INFO-pax   40  got to dest at                           2020-10-01 12:33:36\n",
      "01-10-20 11:39:32-INFO-pax   48  got to dest at                           2020-10-01 12:36:57\n",
      "01-10-20 11:39:32-INFO-pax   41  got to dest at                           2020-10-01 12:39:34\n",
      "01-10-20 11:39:32-INFO-pax   31  got to dest at                           2020-10-01 12:45:22\n",
      "01-10-20 11:39:32-INFO-pax   18  got to dest at                           2020-10-01 12:47:26\n",
      "01-10-20 11:39:32-INFO-veh    2  quitted shift                            2020-10-01 14:10:36\n",
      "01-10-20 11:39:32-INFO-veh    3  quitted shift                            2020-10-01 14:10:36\n",
      "01-10-20 11:39:32-INFO-veh    1  quitted shift                            2020-10-01 14:10:36\n",
      "01-10-20 11:39:32-INFO--------------------\tSimulation over\t\t-------------------\n",
      "01-10-20 11:39:32-INFO-queue of requests 0\n",
      "01-10-20 11:39:32-WARNING-simulation time 1.7 s\n",
      "01-10-20 11:39:32-WARNING-assertion tests for simulation results - passed\n"
     ]
    },
    {
     "data": {
      "text/plain": [
       "<MaaSSim.maassim.Simulator at 0x12dc55e90>"
      ]
     },
     "execution_count": 9,
     "metadata": {},
     "output_type": "execute_result"
    },
    {
     "data": {
      "image/png": "[encoded data removed]",
      "text/plain": [
       "<Figure size 432x288 with 1 Axes>"
      ]
     },
     "metadata": {
      "needs_background": "light"
     },
     "output_type": "display_data"
    }
   ],
   "source": [
    "testQ(params, nP = 50, nV = 3)"
   ]
  },
  {
   "cell_type": "markdown",
   "metadata": {},
   "source": [
    "-------------\n",
    "Rafal Kucharski, 2020, Delft, r.m.kucharski@tudelft.nl"
   ]
  }
 ],
 "metadata": {
  "kernelspec": {
   "display_name": "Python 3",
   "language": "python",
   "name": "python3"
  },
  "language_info": {
   "codemirror_mode": {
    "name": "ipython",
    "version": 3
   },
   "file_extension": ".py",
   "mimetype": "text/x-python",
   "name": "python",
   "nbconvert_exporter": "python",
   "pygments_lexer": "ipython3",
   "version": "3.7.6"
  }
 },
 "nbformat": 4,
 "nbformat_minor": 4
}
