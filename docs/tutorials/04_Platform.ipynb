{
 "cells": [
  {
   "cell_type": "markdown",
   "metadata": {},
   "source": [
    ">\n",
    "> # MaaS Sim tutorial\n",
    ">\n",
    "> ## Platform operating two sided queues\n",
    ">\n",
    "-----\n",
    "demonstrate if system works fine when `demand>supply`, and `supply>demand`"
   ]
  },
  {
   "cell_type": "code",
   "execution_count": 1,
   "metadata": {},
   "outputs": [],
   "source": [
    "import os, sys # add MaaSSim to path (not needed if MaaSSim is already in path)\n",
    "module_path = os.path.abspath(os.path.join('../..'))\n",
    "if module_path not in sys.path:\n",
    "    sys.path.append(module_path)"
   ]
  },
  {
   "cell_type": "code",
   "execution_count": 10,
   "metadata": {},
   "outputs": [],
   "source": [
    "import MaaSSim\n",
    "import MaaSSim.utils\n",
    "import logging\n",
    "from MaaSSim.simulators import simulate\n",
    "from MaaSSim.driver import VehicleAgent, driverEvent\n",
    "from MaaSSim.utils import initialize_df\n",
    "from MaaSSim.data_structures import structures as inData"
   ]
  },
  {
   "cell_type": "code",
   "execution_count": 3,
   "metadata": {},
   "outputs": [],
   "source": [
    "params = MaaSSim.utils.get_config('../../data/config/default.json')"
   ]
  },
  {
   "cell_type": "code",
   "execution_count": 4,
   "metadata": {},
   "outputs": [],
   "source": [
    "def testQ(params, nP = 10,nV = 10):\n",
    "    params.times.patience = 3600 # 1 hour of simulation\n",
    "    params.simTime = 1 # 1 hour of simulation\n",
    "    params.nP = nP # reuqests (and passengers)\n",
    "    params.nV = nV # vehicles\n",
    "    sim = simulate(params = params)\n",
    "    Qs = sim.runs[0].queues\n",
    "    Qs.groupby('platform')[['vehQ','reqQ']].plot(drawstyle = 'steps-post')    \n",
    "    return sim"
   ]
  },
  {
   "cell_type": "code",
   "execution_count": 5,
   "metadata": {},
   "outputs": [
    {
     "name": "stdout",
     "output_type": "stream",
     "text": [
      "06-10-20 16:30:29-WARNING-Setting up 1h simulation at 2020-10-06 16:05:20 for 5 vehicles and 15 passengers in Nootdorp, Netherlands\n",
      "06-10-20 16:30:29-INFO--------------------\tStarting simulation\t-------------------\n",
      "06-10-20 16:30:29-INFO-pax    0  got to dest at                           2020-10-06 16:10:52\n",
      "06-10-20 16:30:29-INFO-pax    1  got to dest at                           2020-10-06 16:17:04\n",
      "06-10-20 16:30:29-INFO-pax    2  got to dest at                           2020-10-06 16:23:58\n",
      "06-10-20 16:30:30-INFO-pax    3  got to dest at                           2020-10-06 16:29:59\n",
      "06-10-20 16:30:30-INFO-pax    4  got to dest at                           2020-10-06 16:31:33\n",
      "06-10-20 16:30:30-INFO-pax    7  got to dest at                           2020-10-06 16:35:59\n",
      "06-10-20 16:30:30-INFO-pax    6  got to dest at                           2020-10-06 16:36:47\n",
      "06-10-20 16:30:30-INFO-pax    8  got to dest at                           2020-10-06 16:39:33\n",
      "06-10-20 16:30:30-INFO-pax    5  got to dest at                           2020-10-06 16:40:53\n",
      "06-10-20 16:30:30-INFO-pax    9  got to dest at                           2020-10-06 16:43:22\n",
      "06-10-20 16:30:30-INFO-pax   10  got to dest at                           2020-10-06 16:45:00\n",
      "06-10-20 16:30:30-INFO-pax   11  got to dest at                           2020-10-06 16:47:24\n",
      "06-10-20 16:30:30-INFO-pax   12  got to dest at                           2020-10-06 16:49:17\n",
      "06-10-20 16:30:30-INFO-pax   13  got to dest at                           2020-10-06 16:50:43\n",
      "06-10-20 16:30:30-INFO-pax   14  got to dest at                           2020-10-06 16:55:41\n",
      "06-10-20 16:30:30-INFO-veh    4  quitted shift                            2020-10-06 19:05:19\n",
      "06-10-20 16:30:30-INFO-veh    3  quitted shift                            2020-10-06 19:05:19\n",
      "06-10-20 16:30:30-INFO-veh    1  quitted shift                            2020-10-06 19:05:19\n",
      "06-10-20 16:30:30-INFO-veh    5  quitted shift                            2020-10-06 19:05:19\n",
      "06-10-20 16:30:30-INFO-veh    2  quitted shift                            2020-10-06 19:05:19\n",
      "06-10-20 16:30:30-INFO--------------------\tSimulation over\t\t-------------------\n",
      "06-10-20 16:30:30-INFO-queue of requests 0\n",
      "06-10-20 16:30:30-WARNING-simulation time 0.5 s\n",
      "06-10-20 16:30:30-WARNING-assertion tests for simulation results - passed\n"
     ]
    },
    {
     "data": {
      "image/png": "[encoded data removed]",
      "text/plain": [
       "<Figure size 432x288 with 1 Axes>"
      ]
     },
     "metadata": {
      "needs_background": "light"
     },
     "output_type": "display_data"
    }
   ],
   "source": [
    "sim = testQ(params, nP = 15, nV = 5)"
   ]
  },
  {
   "cell_type": "code",
   "execution_count": 6,
   "metadata": {},
   "outputs": [
    {
     "name": "stdout",
     "output_type": "stream",
     "text": [
      "06-10-20 16:30:30-WARNING-Setting up 1h simulation at 2020-10-06 16:11:31 for 50 vehicles and 5 passengers in Nootdorp, Netherlands\n",
      "06-10-20 16:30:30-INFO--------------------\tStarting simulation\t-------------------\n",
      "06-10-20 16:30:31-INFO-pax    0  got to dest at                           2020-10-06 16:16:08\n",
      "06-10-20 16:30:31-INFO-pax    1  got to dest at                           2020-10-06 16:41:09\n",
      "06-10-20 16:30:31-INFO-pax    2  got to dest at                           2020-10-06 16:43:58\n",
      "06-10-20 16:30:31-INFO-pax    3  got to dest at                           2020-10-06 16:51:30\n",
      "06-10-20 16:30:31-INFO-pax    4  got to dest at                           2020-10-06 17:04:11\n",
      "06-10-20 16:30:31-INFO-veh    2  quitted shift                            2020-10-06 19:11:30\n",
      "06-10-20 16:30:31-INFO-veh    3  quitted shift                            2020-10-06 19:11:30\n",
      "06-10-20 16:30:31-INFO-veh    4  quitted shift                            2020-10-06 19:11:30\n",
      "06-10-20 16:30:31-INFO-veh    5  quitted shift                            2020-10-06 19:11:30\n",
      "06-10-20 16:30:31-INFO-veh    6  quitted shift                            2020-10-06 19:11:30\n",
      "06-10-20 16:30:31-INFO-veh    7  quitted shift                            2020-10-06 19:11:30\n",
      "06-10-20 16:30:31-INFO-veh    8  quitted shift                            2020-10-06 19:11:30\n",
      "06-10-20 16:30:31-INFO-veh    9  quitted shift                            2020-10-06 19:11:30\n",
      "06-10-20 16:30:31-INFO-veh   10  quitted shift                            2020-10-06 19:11:30\n",
      "06-10-20 16:30:31-INFO-veh   11  quitted shift                            2020-10-06 19:11:30\n",
      "06-10-20 16:30:31-INFO-veh   12  quitted shift                            2020-10-06 19:11:30\n",
      "06-10-20 16:30:31-INFO-veh   13  quitted shift                            2020-10-06 19:11:30\n",
      "06-10-20 16:30:31-INFO-veh   14  quitted shift                            2020-10-06 19:11:30\n",
      "06-10-20 16:30:31-INFO-veh   15  quitted shift                            2020-10-06 19:11:30\n",
      "06-10-20 16:30:31-INFO-veh   16  quitted shift                            2020-10-06 19:11:30\n",
      "06-10-20 16:30:31-INFO-veh   17  quitted shift                            2020-10-06 19:11:30\n",
      "06-10-20 16:30:31-INFO-veh   19  quitted shift                            2020-10-06 19:11:30\n",
      "06-10-20 16:30:31-INFO-veh   20  quitted shift                            2020-10-06 19:11:30\n",
      "06-10-20 16:30:31-INFO-veh   21  quitted shift                            2020-10-06 19:11:30\n",
      "06-10-20 16:30:31-INFO-veh   22  quitted shift                            2020-10-06 19:11:30\n",
      "06-10-20 16:30:31-INFO-veh   23  quitted shift                            2020-10-06 19:11:30\n",
      "06-10-20 16:30:31-INFO-veh   24  quitted shift                            2020-10-06 19:11:30\n",
      "06-10-20 16:30:31-INFO-veh   26  quitted shift                            2020-10-06 19:11:30\n",
      "06-10-20 16:30:31-INFO-veh   27  quitted shift                            2020-10-06 19:11:30\n",
      "06-10-20 16:30:31-INFO-veh   28  quitted shift                            2020-10-06 19:11:30\n",
      "06-10-20 16:30:31-INFO-veh   29  quitted shift                            2020-10-06 19:11:30\n",
      "06-10-20 16:30:31-INFO-veh   31  quitted shift                            2020-10-06 19:11:30\n",
      "06-10-20 16:30:31-INFO-veh   32  quitted shift                            2020-10-06 19:11:30\n",
      "06-10-20 16:30:31-INFO-veh   33  quitted shift                            2020-10-06 19:11:30\n",
      "06-10-20 16:30:31-INFO-veh   34  quitted shift                            2020-10-06 19:11:30\n",
      "06-10-20 16:30:31-INFO-veh   35  quitted shift                            2020-10-06 19:11:30\n",
      "06-10-20 16:30:31-INFO-veh   36  quitted shift                            2020-10-06 19:11:30\n",
      "06-10-20 16:30:31-INFO-veh   37  quitted shift                            2020-10-06 19:11:30\n",
      "06-10-20 16:30:31-INFO-veh   38  quitted shift                            2020-10-06 19:11:30\n",
      "06-10-20 16:30:31-INFO-veh   39  quitted shift                            2020-10-06 19:11:30\n",
      "06-10-20 16:30:31-INFO-veh   40  quitted shift                            2020-10-06 19:11:30\n",
      "06-10-20 16:30:31-INFO-veh   41  quitted shift                            2020-10-06 19:11:30\n",
      "06-10-20 16:30:31-INFO-veh   42  quitted shift                            2020-10-06 19:11:30\n",
      "06-10-20 16:30:31-INFO-veh   43  quitted shift                            2020-10-06 19:11:30\n",
      "06-10-20 16:30:31-INFO-veh   44  quitted shift                            2020-10-06 19:11:30\n",
      "06-10-20 16:30:31-INFO-veh   45  quitted shift                            2020-10-06 19:11:30\n",
      "06-10-20 16:30:31-INFO-veh   46  quitted shift                            2020-10-06 19:11:30\n",
      "06-10-20 16:30:31-INFO-veh   47  quitted shift                            2020-10-06 19:11:30\n",
      "06-10-20 16:30:31-INFO-veh   48  quitted shift                            2020-10-06 19:11:30\n",
      "06-10-20 16:30:31-INFO-veh   49  quitted shift                            2020-10-06 19:11:30\n",
      "06-10-20 16:30:31-INFO-veh   50  quitted shift                            2020-10-06 19:11:30\n",
      "06-10-20 16:30:31-INFO-veh    1  quitted shift                            2020-10-06 19:11:30\n",
      "06-10-20 16:30:31-INFO-veh   18  quitted shift                            2020-10-06 19:11:30\n",
      "06-10-20 16:30:31-INFO-veh   30  quitted shift                            2020-10-06 19:11:30\n",
      "06-10-20 16:30:31-INFO-veh   25  quitted shift                            2020-10-06 19:11:30\n",
      "06-10-20 16:30:31-INFO--------------------\tSimulation over\t\t-------------------\n",
      "06-10-20 16:30:31-INFO-queue of requests 0\n",
      "06-10-20 16:30:31-WARNING-simulation time 0.4 s\n",
      "06-10-20 16:30:31-WARNING-assertion tests for simulation results - passed\n"
     ]
    },
    {
     "data": {
      "text/plain": [
       "<MaaSSim.maassim.Simulator at 0x1276cfe90>"
      ]
     },
     "execution_count": 6,
     "metadata": {},
     "output_type": "execute_result"
    },
    {
     "data": {
      "image/png": "[encoded data removed]",
      "text/plain": [
       "<Figure size 432x288 with 1 Axes>"
      ]
     },
     "metadata": {
      "needs_background": "light"
     },
     "output_type": "display_data"
    }
   ],
   "source": [
    "testQ(params, nP = 5, nV = 50)"
   ]
  },
  {
   "cell_type": "code",
   "execution_count": 7,
   "metadata": {},
   "outputs": [
    {
     "name": "stdout",
     "output_type": "stream",
     "text": [
      "06-10-20 16:30:32-WARNING-Setting up 1h simulation at 2020-10-06 16:01:32 for 3 vehicles and 50 passengers in Nootdorp, Netherlands\n",
      "06-10-20 16:30:32-INFO--------------------\tStarting simulation\t-------------------\n",
      "06-10-20 16:30:32-INFO-pax    0  got to dest at                           2020-10-06 16:08:29\n",
      "06-10-20 16:30:32-INFO-pax    4  got to dest at                           2020-10-06 16:10:16\n",
      "06-10-20 16:30:32-INFO-pax    1  got to dest at                           2020-10-06 16:10:51\n",
      "06-10-20 16:30:32-INFO-pax    2  got to dest at                           2020-10-06 16:12:19\n",
      "06-10-20 16:30:32-INFO-pax    6  got to dest at                           2020-10-06 16:13:39\n",
      "06-10-20 16:30:32-INFO-pax    9  got to dest at                           2020-10-06 16:15:01\n",
      "06-10-20 16:30:32-INFO-pax    7  got to dest at                           2020-10-06 16:15:05\n",
      "06-10-20 16:30:32-INFO-pax   10  got to dest at                           2020-10-06 16:17:39\n",
      "06-10-20 16:30:32-INFO-pax   11  got to dest at                           2020-10-06 16:19:57\n",
      "06-10-20 16:30:32-INFO-pax   12  got to dest at                           2020-10-06 16:21:37\n",
      "06-10-20 16:30:32-INFO-pax    8  got to dest at                           2020-10-06 16:21:38\n",
      "06-10-20 16:30:32-INFO-pax   13  got to dest at                           2020-10-06 16:24:30\n",
      "06-10-20 16:30:32-INFO-pax    3  got to dest at                           2020-10-06 16:25:35\n",
      "06-10-20 16:30:32-INFO-pax   14  got to dest at                           2020-10-06 16:28:58\n",
      "06-10-20 16:30:32-INFO-pax   17  got to dest at                           2020-10-06 16:29:10\n",
      "06-10-20 16:30:32-INFO-pax   15  got to dest at                           2020-10-06 16:32:14\n",
      "06-10-20 16:30:32-INFO-pax   16  got to dest at                           2020-10-06 16:33:26\n",
      "06-10-20 16:30:32-INFO-pax   20  got to dest at                           2020-10-06 16:34:21\n",
      "06-10-20 16:30:32-INFO-pax   23  got to dest at                           2020-10-06 16:35:56\n",
      "06-10-20 16:30:32-INFO-pax   24  got to dest at                           2020-10-06 16:38:06\n",
      "06-10-20 16:30:33-INFO-pax   26  got to dest at                           2020-10-06 16:38:12\n",
      "06-10-20 16:30:33-INFO-pax   25  got to dest at                           2020-10-06 16:39:11\n",
      "06-10-20 16:30:33-INFO-pax   27  got to dest at                           2020-10-06 16:41:41\n",
      "06-10-20 16:30:33-INFO-pax   31  got to dest at                           2020-10-06 16:43:32\n",
      "06-10-20 16:30:33-INFO-pax   32  got to dest at                           2020-10-06 16:44:10\n",
      "06-10-20 16:30:33-INFO-pax   33  got to dest at                           2020-10-06 16:47:38\n",
      "06-10-20 16:30:33-INFO-pax   36  got to dest at                           2020-10-06 16:47:40\n",
      "06-10-20 16:30:33-INFO-pax   37  got to dest at                           2020-10-06 16:47:59\n",
      "06-10-20 16:30:33-INFO-pax   38  got to dest at                           2020-10-06 16:50:47\n",
      "06-10-20 16:30:33-INFO-pax   35  got to dest at                           2020-10-06 16:53:40\n",
      "06-10-20 16:30:33-INFO-pax   39  got to dest at                           2020-10-06 16:53:45\n",
      "06-10-20 16:30:33-INFO-pax   40  got to dest at                           2020-10-06 16:54:29\n",
      "06-10-20 16:30:33-INFO-pax   30  got to dest at                           2020-10-06 16:57:14\n",
      "06-10-20 16:30:33-INFO-pax   44  got to dest at                           2020-10-06 16:58:08\n",
      "06-10-20 16:30:33-INFO-pax   41  got to dest at                           2020-10-06 16:58:32\n",
      "06-10-20 16:30:33-INFO-pax   43  got to dest at                           2020-10-06 17:00:41\n",
      "06-10-20 16:30:33-INFO-pax   48  got to dest at                           2020-10-06 17:00:58\n",
      "06-10-20 16:30:33-INFO-pax   46  got to dest at                           2020-10-06 17:01:56\n",
      "06-10-20 16:30:33-INFO-pax   47  got to dest at                           2020-10-06 17:04:27\n",
      "06-10-20 16:30:33-INFO-pax   42  got to dest at                           2020-10-06 17:04:43\n",
      "06-10-20 16:30:33-INFO-pax   19  got to dest at                           2020-10-06 17:06:47\n",
      "06-10-20 16:30:33-INFO-pax   28  got to dest at                           2020-10-06 17:07:59\n",
      "06-10-20 16:30:33-INFO-pax   22  got to dest at                           2020-10-06 17:10:25\n",
      "06-10-20 16:30:33-INFO-pax   49  got to dest at                           2020-10-06 17:11:56\n",
      "06-10-20 16:30:33-INFO-pax   18  got to dest at                           2020-10-06 17:16:48\n",
      "06-10-20 16:30:33-INFO-pax    5  got to dest at                           2020-10-06 17:21:02\n",
      "06-10-20 16:30:33-INFO-pax   21  got to dest at                           2020-10-06 17:22:30\n",
      "06-10-20 16:30:33-INFO-pax   45  got to dest at                           2020-10-06 17:26:24\n",
      "06-10-20 16:30:33-INFO-pax   29  got to dest at                           2020-10-06 17:27:14\n",
      "06-10-20 16:30:33-INFO-pax   34  got to dest at                           2020-10-06 17:34:12\n",
      "06-10-20 16:30:33-INFO-veh    3  quitted shift                            2020-10-06 19:01:31\n",
      "06-10-20 16:30:33-INFO-veh    2  quitted shift                            2020-10-06 19:01:31\n",
      "06-10-20 16:30:33-INFO-veh    1  quitted shift                            2020-10-06 19:01:31\n",
      "06-10-20 16:30:33-INFO--------------------\tSimulation over\t\t-------------------\n",
      "06-10-20 16:30:33-INFO-queue of requests 0\n",
      "06-10-20 16:30:33-WARNING-simulation time 1.7 s\n",
      "06-10-20 16:30:34-WARNING-assertion tests for simulation results - passed\n"
     ]
    },
    {
     "data": {
      "text/plain": [
       "<MaaSSim.maassim.Simulator at 0x1276d8a10>"
      ]
     },
     "execution_count": 7,
     "metadata": {},
     "output_type": "execute_result"
    },
    {
     "data": {
      "image/png": "[encoded data removed]",
      "text/plain": [
       "<Figure size 432x288 with 1 Axes>"
      ]
     },
     "metadata": {
      "needs_background": "light"
     },
     "output_type": "display_data"
    }
   ],
   "source": [
    "testQ(params, nP = 50, nV = 3)"
   ]
  },
  {
   "cell_type": "markdown",
   "metadata": {},
   "source": [
    "batched platform"
   ]
  },
  {
   "cell_type": "code",
   "execution_count": 23,
   "metadata": {},
   "outputs": [
    {
     "data": {
      "text/html": [
       "<div>\n",
       "<style scoped>\n",
       "    .dataframe tbody tr th:only-of-type {\n",
       "        vertical-align: middle;\n",
       "    }\n",
       "\n",
       "    .dataframe tbody tr th {\n",
       "        vertical-align: top;\n",
       "    }\n",
       "\n",
       "    .dataframe thead th {\n",
       "        text-align: right;\n",
       "    }\n",
       "</style>\n",
       "<table border=\"1\" class=\"dataframe\">\n",
       "  <thead>\n",
       "    <tr style=\"text-align: right;\">\n",
       "      <th></th>\n",
       "      <th>fare</th>\n",
       "      <th>name</th>\n",
       "      <th>batch_time</th>\n",
       "    </tr>\n",
       "    <tr>\n",
       "      <th>id</th>\n",
       "      <th></th>\n",
       "      <th></th>\n",
       "      <th></th>\n",
       "    </tr>\n",
       "  </thead>\n",
       "  <tbody>\n",
       "    <tr>\n",
       "      <th>0</th>\n",
       "      <td>1</td>\n",
       "      <td>Uber</td>\n",
       "      <td>600</td>\n",
       "    </tr>\n",
       "  </tbody>\n",
       "</table>\n",
       "</div>"
      ],
      "text/plain": [
       "   fare  name batch_time\n",
       "id                      \n",
       "0     1  Uber        600"
      ]
     },
     "execution_count": 23,
     "metadata": {},
     "output_type": "execute_result"
    }
   ],
   "source": [
    "inData.platforms = initialize_df(inData.platforms)\n",
    "inData.platforms.loc[0]=[1,'Uber', 600]\n",
    "inData.platforms"
   ]
  },
  {
   "cell_type": "code",
   "execution_count": 24,
   "metadata": {},
   "outputs": [
    {
     "name": "stdout",
     "output_type": "stream",
     "text": [
      "06-10-20 16:36:03-WARNING-Setting up 1h simulation at 2020-10-06 16:04:40 for 3 vehicles and 50 passengers in Nootdorp, Netherlands\n",
      "06-10-20 16:36:03-INFO--------------------\tStarting simulation\t-------------------\n",
      "06-10-20 16:36:03-INFO-pax    1  got to dest at                           2020-10-06 16:09:58\n",
      "06-10-20 16:36:03-INFO-pax    2  got to dest at                           2020-10-06 16:11:23\n",
      "06-10-20 16:36:03-INFO-pax    0  got to dest at                           2020-10-06 16:17:15\n",
      "06-10-20 16:36:03-INFO-pax    5  got to dest at                           2020-10-06 16:20:47\n",
      "06-10-20 16:36:03-INFO-pax   10  got to dest at                           2020-10-06 16:21:29\n",
      "06-10-20 16:36:03-INFO-pax   11  got to dest at                           2020-10-06 16:29:33\n",
      "06-10-20 16:36:03-INFO-pax    7  got to dest at                           2020-10-06 16:30:17\n",
      "06-10-20 16:36:04-INFO-pax    9  got to dest at                           2020-10-06 16:30:28\n",
      "06-10-20 16:36:04-INFO-pax   20  got to dest at                           2020-10-06 16:37:48\n",
      "06-10-20 16:36:04-INFO-pax    3  got to dest at                           2020-10-06 16:39:06\n",
      "06-10-20 16:36:04-INFO-pax    8  got to dest at                           2020-10-06 16:39:39\n",
      "06-10-20 16:36:04-INFO-pax   39  got to dest at                           2020-10-06 16:50:06\n",
      "06-10-20 16:36:04-INFO-pax   22  got to dest at                           2020-10-06 16:51:47\n",
      "06-10-20 16:36:04-INFO-pax   36  got to dest at                           2020-10-06 16:52:13\n",
      "06-10-20 16:36:04-INFO-pax   42  got to dest at                           2020-10-06 16:59:03\n",
      "06-10-20 16:36:04-INFO-pax   30  got to dest at                           2020-10-06 16:59:25\n",
      "06-10-20 16:36:04-INFO-pax   26  got to dest at                           2020-10-06 17:02:33\n",
      "06-10-20 16:36:04-INFO-pax   18  got to dest at                           2020-10-06 17:09:29\n",
      "06-10-20 16:36:04-INFO-pax   49  got to dest at                           2020-10-06 17:09:36\n",
      "06-10-20 16:36:04-INFO-pax   37  got to dest at                           2020-10-06 17:11:31\n",
      "06-10-20 16:36:04-INFO-pax   46  got to dest at                           2020-10-06 17:19:16\n",
      "06-10-20 16:36:04-INFO-pax   29  got to dest at                           2020-10-06 17:19:44\n",
      "06-10-20 16:36:04-INFO-pax   38  got to dest at                           2020-10-06 17:22:28\n",
      "06-10-20 16:36:04-INFO-pax   28  got to dest at                           2020-10-06 17:29:12\n",
      "06-10-20 16:36:04-INFO-pax    4  got to dest at                           2020-10-06 17:30:26\n",
      "06-10-20 16:36:04-INFO-pax   48  got to dest at                           2020-10-06 17:32:32\n",
      "06-10-20 16:36:04-INFO-pax   35  got to dest at                           2020-10-06 17:39:47\n",
      "06-10-20 16:36:04-INFO-pax   44  got to dest at                           2020-10-06 17:40:13\n",
      "06-10-20 16:36:04-INFO-pax   15  got to dest at                           2020-10-06 17:40:29\n",
      "06-10-20 16:36:04-INFO-pax   16  got to dest at                           2020-10-06 17:50:09\n",
      "06-10-20 16:36:04-INFO-pax   33  got to dest at                           2020-10-06 17:50:31\n",
      "06-10-20 16:36:04-INFO-pax   31  got to dest at                           2020-10-06 17:50:41\n",
      "06-10-20 16:36:04-INFO-pax   17  got to dest at                           2020-10-06 17:59:19\n",
      "06-10-20 16:36:04-INFO-pax   27  got to dest at                           2020-10-06 18:00:35\n",
      "06-10-20 16:36:04-INFO-pax   34  got to dest at                           2020-10-06 18:01:29\n",
      "06-10-20 16:36:04-INFO-pax   24  got to dest at                           2020-10-06 18:10:25\n",
      "06-10-20 16:36:04-INFO-pax   25  got to dest at                           2020-10-06 18:10:52\n",
      "06-10-20 16:36:04-INFO-pax   21  got to dest at                           2020-10-06 18:11:29\n",
      "06-10-20 16:36:05-INFO-pax   43  got to dest at                           2020-10-06 18:18:47\n",
      "06-10-20 16:36:05-INFO-pax   12  got to dest at                           2020-10-06 18:21:17\n",
      "06-10-20 16:36:05-INFO-pax   45  got to dest at                           2020-10-06 18:21:23\n",
      "06-10-20 16:36:05-INFO-pax   19  got to dest at                           2020-10-06 18:31:00\n",
      "06-10-20 16:36:05-INFO-pax   23  got to dest at                           2020-10-06 18:32:09\n",
      "06-10-20 16:36:05-INFO-pax   32  got to dest at                           2020-10-06 18:35:38\n",
      "06-10-20 16:36:05-INFO-pax   13  got to dest at                           2020-10-06 18:44:10\n",
      "06-10-20 16:36:05-INFO-pax   47  got to dest at                           2020-10-06 18:44:11\n",
      "06-10-20 16:36:05-INFO-pax   14  got to dest at                           2020-10-06 18:44:24\n",
      "06-10-20 16:36:05-INFO-pax   41  got to dest at                           2020-10-06 18:53:15\n",
      "06-10-20 16:36:05-INFO-pax    6  got to dest at                           2020-10-06 18:55:18\n",
      "06-10-20 16:36:05-INFO-pax   40  got to dest at                           2020-10-06 19:00:04\n",
      "06-10-20 16:36:05-INFO-veh    1  quitted shift                            2020-10-06 19:04:39\n",
      "06-10-20 16:36:05-INFO-veh    3  quitted shift                            2020-10-06 19:04:39\n",
      "06-10-20 16:36:05-INFO-veh    2  quitted shift                            2020-10-06 19:04:39\n",
      "06-10-20 16:36:05-INFO--------------------\tSimulation over\t\t-------------------\n",
      "06-10-20 16:36:05-INFO-queue of requests 0\n",
      "06-10-20 16:36:05-WARNING-simulation time 1.7 s\n",
      "06-10-20 16:36:05-WARNING-assertion tests for simulation results - passed\n"
     ]
    },
    {
     "data": {
      "text/plain": [
       "platform\n",
       "0    AxesSubplot(0.125,0.125;0.775x0.755)\n",
       "dtype: object"
      ]
     },
     "execution_count": 24,
     "metadata": {},
     "output_type": "execute_result"
    },
    {
     "data": {
      "image/png": "[encoded data removed]",
      "text/plain": [
       "<Figure size 432x288 with 1 Axes>"
      ]
     },
     "metadata": {
      "needs_background": "light"
     },
     "output_type": "display_data"
    }
   ],
   "source": [
    "sim = simulate(params = params, inData = inData, event_based = False)\n",
    "Qs = sim.runs[0].queues\n",
    "Qs.groupby('platform')[['vehQ','reqQ']].plot(drawstyle = 'steps-post')    "
   ]
  },
  {
   "cell_type": "markdown",
   "metadata": {},
   "source": [
    "-------------\n",
    "Rafal Kucharski, 2020, Delft, r.m.kucharski@tudelft.nl"
   ]
  }
 ],
 "metadata": {
  "kernelspec": {
   "display_name": "Python 3",
   "language": "python",
   "name": "python3"
  },
  "language_info": {
   "codemirror_mode": {
    "name": "ipython",
    "version": 3
   },
   "file_extension": ".py",
   "mimetype": "text/x-python",
   "name": "python",
   "nbconvert_exporter": "python",
   "pygments_lexer": "ipython3",
   "version": "3.7.6"
  }
 },
 "nbformat": 4,
 "nbformat_minor": 4
}
