{
 "cells": [
  {
   "cell_type": "markdown",
   "metadata": {},
   "source": [
    ">\n",
    "> # MaaSSim tutorial\n",
    ">\n",
    "> ## Results\n",
    ">\n",
    "-----\n",
    "\n",
    "Run the Exec simulation with 'config.json' parameterisation and parse the results\n"
   ]
  },
  {
   "cell_type": "markdown",
   "metadata": {},
   "source": [
    "import simulator"
   ]
  },
  {
   "cell_type": "code",
   "execution_count": 3,
   "metadata": {},
   "outputs": [],
   "source": [
    "import os, sys\n",
    "import pandas as pd\n",
    "import logging\n",
    "from dotmap import DotMap\n",
    "module_path = os.path.abspath(os.path.join('../..'))\n",
    "if module_path not in sys.path:\n",
    "    sys.path.append(module_path)"
   ]
  },
  {
   "cell_type": "code",
   "execution_count": 4,
   "metadata": {},
   "outputs": [],
   "source": [
    "from MaaSSim.utils import get_config, load_G, prep_supply_and_demand  # simulator\n",
    "from MaaSSim.data_structures import structures as inData\n",
    "from MaaSSim.simulators import simulate, simulate_parallel\n",
    "from MaaSSim.traveller import travellerEvent\n",
    "from MaaSSim.driver import driverEvent"
   ]
  },
  {
   "cell_type": "code",
   "execution_count": 5,
   "metadata": {},
   "outputs": [],
   "source": [
    "params = get_config('../../data/config/default.json')  # load configuration"
   ]
  },
  {
   "cell_type": "markdown",
   "metadata": {},
   "source": [
    "## simulation"
   ]
  },
  {
   "cell_type": "code",
   "execution_count": 6,
   "metadata": {},
   "outputs": [],
   "source": [
    "params.simTime = 2 # 1 hour of simulation\n",
    "params.nP = 50 # reuqests (and passengers)\n",
    "params.nV = 30 # vehicles"
   ]
  },
  {
   "cell_type": "code",
   "execution_count": 7,
   "metadata": {},
   "outputs": [
    {
     "name": "stdout",
     "output_type": "stream",
     "text": [
      "09-10-20 12:02:52-WARNING-Setting up 2h simulation at 2020-10-09 11:04:54 for 30 vehicles and 50 passengers in Nootdorp, Netherlands\n",
      "09-10-20 12:02:54-WARNING-simulation time 1.7 s\n",
      "09-10-20 12:02:54-WARNING-assertion tests for simulation results - passed\n"
     ]
    }
   ],
   "source": [
    "sim = simulate(params = params, logger_level = logging.WARNING)"
   ]
  },
  {
   "cell_type": "code",
   "execution_count": 8,
   "metadata": {},
   "outputs": [
    {
     "data": {
      "text/html": [
       "<div>\n",
       "<style scoped>\n",
       "    .dataframe tbody tr th:only-of-type {\n",
       "        vertical-align: middle;\n",
       "    }\n",
       "\n",
       "    .dataframe tbody tr th {\n",
       "        vertical-align: top;\n",
       "    }\n",
       "\n",
       "    .dataframe thead th {\n",
       "        text-align: right;\n",
       "    }\n",
       "</style>\n",
       "<table border=\"1\" class=\"dataframe\">\n",
       "  <thead>\n",
       "    <tr style=\"text-align: right;\">\n",
       "      <th></th>\n",
       "      <th>ACCEPTS_OFFER</th>\n",
       "      <th>ARRIVES_AT_DROPOFF</th>\n",
       "      <th>ARRIVES_AT_PICKUP</th>\n",
       "      <th>DEPARTS_FROM_PICKUP</th>\n",
       "      <th>MEETS_DRIVER_AT_PICKUP</th>\n",
       "      <th>REQUESTS_RIDE</th>\n",
       "      <th>SETS_OFF_FOR_DEST</th>\n",
       "      <th>STARTS_DAY</th>\n",
       "      <th>RECEIVES_OFFER</th>\n",
       "      <th>IS_REJECTED_BY_VEHICLE</th>\n",
       "      <th>REJECTS_OFFER</th>\n",
       "      <th>ARRIVES_AT_DEST</th>\n",
       "      <th>PREFERS_OTHER_SERVICE</th>\n",
       "      <th>LOSES_PATIENCE</th>\n",
       "      <th>nP</th>\n",
       "    </tr>\n",
       "  </thead>\n",
       "  <tbody>\n",
       "    <tr>\n",
       "      <th>sum</th>\n",
       "      <td>750.0</td>\n",
       "      <td>6620.000000</td>\n",
       "      <td>1000.0</td>\n",
       "      <td>1500.0</td>\n",
       "      <td>1034.000000</td>\n",
       "      <td>167136.000000</td>\n",
       "      <td>500.0</td>\n",
       "      <td>0.0</td>\n",
       "      <td>0.0</td>\n",
       "      <td>0.0</td>\n",
       "      <td>0.0</td>\n",
       "      <td>0.0</td>\n",
       "      <td>0.0</td>\n",
       "      <td>0.0</td>\n",
       "      <td>50</td>\n",
       "    </tr>\n",
       "    <tr>\n",
       "      <th>mean</th>\n",
       "      <td>15.0</td>\n",
       "      <td>132.400000</td>\n",
       "      <td>20.0</td>\n",
       "      <td>30.0</td>\n",
       "      <td>36.928571</td>\n",
       "      <td>3410.938776</td>\n",
       "      <td>10.0</td>\n",
       "      <td>0.0</td>\n",
       "      <td>0.0</td>\n",
       "      <td>0.0</td>\n",
       "      <td>0.0</td>\n",
       "      <td>0.0</td>\n",
       "      <td>0.0</td>\n",
       "      <td>0.0</td>\n",
       "      <td>50</td>\n",
       "    </tr>\n",
       "    <tr>\n",
       "      <th>std</th>\n",
       "      <td>0.0</td>\n",
       "      <td>73.062735</td>\n",
       "      <td>0.0</td>\n",
       "      <td>0.0</td>\n",
       "      <td>47.262802</td>\n",
       "      <td>2207.377992</td>\n",
       "      <td>0.0</td>\n",
       "      <td>0.0</td>\n",
       "      <td>0.0</td>\n",
       "      <td>0.0</td>\n",
       "      <td>0.0</td>\n",
       "      <td>0.0</td>\n",
       "      <td>0.0</td>\n",
       "      <td>0.0</td>\n",
       "      <td>50</td>\n",
       "    </tr>\n",
       "  </tbody>\n",
       "</table>\n",
       "</div>"
      ],
      "text/plain": [
       "      ACCEPTS_OFFER  ARRIVES_AT_DROPOFF  ARRIVES_AT_PICKUP  \\\n",
       "sum           750.0         6620.000000             1000.0   \n",
       "mean           15.0          132.400000               20.0   \n",
       "std             0.0           73.062735                0.0   \n",
       "\n",
       "      DEPARTS_FROM_PICKUP  MEETS_DRIVER_AT_PICKUP  REQUESTS_RIDE  \\\n",
       "sum                1500.0             1034.000000  167136.000000   \n",
       "mean                 30.0               36.928571    3410.938776   \n",
       "std                   0.0               47.262802    2207.377992   \n",
       "\n",
       "      SETS_OFF_FOR_DEST  STARTS_DAY  RECEIVES_OFFER  IS_REJECTED_BY_VEHICLE  \\\n",
       "sum               500.0         0.0             0.0                     0.0   \n",
       "mean               10.0         0.0             0.0                     0.0   \n",
       "std                 0.0         0.0             0.0                     0.0   \n",
       "\n",
       "      REJECTS_OFFER  ARRIVES_AT_DEST  PREFERS_OTHER_SERVICE  LOSES_PATIENCE  \\\n",
       "sum             0.0              0.0                    0.0             0.0   \n",
       "mean            0.0              0.0                    0.0             0.0   \n",
       "std             0.0              0.0                    0.0             0.0   \n",
       "\n",
       "      nP  \n",
       "sum   50  \n",
       "mean  50  \n",
       "std   50  "
      ]
     },
     "execution_count": 8,
     "metadata": {},
     "output_type": "execute_result"
    }
   ],
   "source": [
    "(sim.res[0].pax_kpi['MEETS_DRIVER_AT_PICKUP']-sim.res[0].pax_kpi['MEETS_DRIVER_AT_PICKUP'])"
   ]
  },
  {
   "cell_type": "markdown",
   "metadata": {},
   "source": [
    "## results"
   ]
  },
  {
   "cell_type": "code",
   "execution_count": 6,
   "metadata": {},
   "outputs": [],
   "source": [
    "trip_id  = 3 # we inspext traveller 3\n",
    "req = sim.inData.requests[sim.inData.requests.pax_id==trip_id].squeeze() # this is his ride request\n",
    "aggr = sim.res[0].pax_exp.loc[trip_id] # this is his aggregated results \n",
    "raw = sim.runs[0].trips[sim.runs[0].trips.pax == trip_id]  # this is his record within simulation"
   ]
  },
  {
   "cell_type": "code",
   "execution_count": 7,
   "metadata": {},
   "outputs": [
    {
     "data": {
      "text/html": [
       "<div>\n",
       "<style scoped>\n",
       "    .dataframe tbody tr th:only-of-type {\n",
       "        vertical-align: middle;\n",
       "    }\n",
       "\n",
       "    .dataframe tbody tr th {\n",
       "        vertical-align: top;\n",
       "    }\n",
       "\n",
       "    .dataframe thead th {\n",
       "        text-align: right;\n",
       "    }\n",
       "</style>\n",
       "<table border=\"1\" class=\"dataframe\">\n",
       "  <thead>\n",
       "    <tr style=\"text-align: right;\">\n",
       "      <th></th>\n",
       "      <th>pax_id</th>\n",
       "      <th>origin</th>\n",
       "      <th>destination</th>\n",
       "      <th>treq</th>\n",
       "      <th>tdep</th>\n",
       "      <th>ttrav</th>\n",
       "      <th>tarr</th>\n",
       "      <th>tdrop</th>\n",
       "      <th>shareable</th>\n",
       "      <th>schedule_id</th>\n",
       "      <th>dist</th>\n",
       "      <th>ride_id</th>\n",
       "      <th>position</th>\n",
       "      <th>sim_schedule</th>\n",
       "    </tr>\n",
       "  </thead>\n",
       "  <tbody>\n",
       "    <tr>\n",
       "      <th>3</th>\n",
       "      <td>3</td>\n",
       "      <td>44978600</td>\n",
       "      <td>45000745</td>\n",
       "      <td>2020-10-07 14:06:18</td>\n",
       "      <td>NaN</td>\n",
       "      <td>00:02:03</td>\n",
       "      <td>2020-10-07 14:08:21</td>\n",
       "      <td>NaN</td>\n",
       "      <td>False</td>\n",
       "      <td>NaN</td>\n",
       "      <td>1233</td>\n",
       "      <td>3</td>\n",
       "      <td>0</td>\n",
       "      <td>node time  req_id    od\n",
       "0         NaN...</td>\n",
       "    </tr>\n",
       "  </tbody>\n",
       "</table>\n",
       "</div>"
      ],
      "text/plain": [
       "  pax_id    origin destination                treq tdep    ttrav  \\\n",
       "3      3  44978600    45000745 2020-10-07 14:06:18  NaN 00:02:03   \n",
       "\n",
       "                 tarr tdrop shareable schedule_id  dist ride_id position  \\\n",
       "3 2020-10-07 14:08:21   NaN     False         NaN  1233       3        0   \n",
       "\n",
       "                                        sim_schedule  \n",
       "3           node time  req_id    od\n",
       "0         NaN...  "
      ]
     },
     "execution_count": 7,
     "metadata": {},
     "output_type": "execute_result"
    }
   ],
   "source": [
    "req.to_frame().T"
   ]
  },
  {
   "cell_type": "code",
   "execution_count": 8,
   "metadata": {},
   "outputs": [
    {
     "name": "stderr",
     "output_type": "stream",
     "text": [
      "/Users/rkucharski/Documents/GitHub/MaaSSim/MaaSSim/visualizations.py:147: SettingWithCopyWarning: \n",
      "A value is trying to be set on a copy of a slice from a DataFrame.\n",
      "Try using .loc[row_indexer,col_indexer] = value instead\n",
      "\n",
      "See the caveats in the documentation: https://pandas.pydata.org/pandas-docs/stable/user_guide/indexing.html#returning-a-view-versus-a-copy\n",
      "  df['status_num'] = df.apply(lambda x: travellerEvent[x.event].value, axis=1)\n"
     ]
    },
    {
     "data": {
      "image/png": "[encoded data removed]",
      "text/plain": [
       "<Figure size 432x288 with 1 Axes>"
      ]
     },
     "metadata": {
      "needs_background": "light"
     },
     "output_type": "display_data"
    },
    {
     "data": {
      "image/png": "[encoded data removed]",
      "text/plain": [
       "<Figure size 576x576 with 1 Axes>"
      ]
     },
     "metadata": {},
     "output_type": "display_data"
    }
   ],
   "source": [
    "sim.plot_trip(trip_id)"
   ]
  },
  {
   "cell_type": "code",
   "execution_count": 9,
   "metadata": {},
   "outputs": [
    {
     "name": "stdout",
     "output_type": "stream",
     "text": [
      "request time:\n",
      "2020-10-07 14:06:18\n",
      "simulated request time:\n",
      "2020-10-07 14:06:18\n"
     ]
    }
   ],
   "source": [
    "print('request time:')\n",
    "print(req.treq)\n",
    "print('simulated request time:')\n",
    "print(sim.t0+pd.to_timedelta(raw[raw.event == travellerEvent.REQUESTS_RIDE.name].squeeze().t,'s'))"
   ]
  },
  {
   "cell_type": "code",
   "execution_count": 10,
   "metadata": {},
   "outputs": [
    {
     "name": "stdout",
     "output_type": "stream",
     "text": [
      "travel time at request level:\n",
      "0 days 00:02:03\n",
      "simulated travel time:\n",
      "0 days 00:02:03\n",
      "delay:\n",
      "0 days 00:00:00\n"
     ]
    }
   ],
   "source": [
    "print('travel time at request level:')\n",
    "print(req.ttrav) \n",
    "print('simulated travel time:')\n",
    "print(pd.to_timedelta(raw[raw.event == travellerEvent.ARRIVES_AT_DROPOFF.name].squeeze().t -  raw[raw.event == travellerEvent.DEPARTS_FROM_PICKUP.name].squeeze().t,'s'))\n",
    "print('delay:')\n",
    "print(pd.to_timedelta(raw[raw.event == travellerEvent.ARRIVES_AT_DROPOFF.name].squeeze().t -  raw[raw.event == travellerEvent.DEPARTS_FROM_PICKUP.name].squeeze().t,'s')-req.ttrav)"
   ]
  },
  {
   "cell_type": "code",
   "execution_count": 11,
   "metadata": {},
   "outputs": [
    {
     "name": "stdout",
     "output_type": "stream",
     "text": [
      "lost time before\n"
     ]
    },
    {
     "data": {
      "text/plain": [
       "Timedelta('0 days 00:01:10')"
      ]
     },
     "execution_count": 11,
     "metadata": {},
     "output_type": "execute_result"
    }
   ],
   "source": [
    "print('lost time before')\n",
    "pd.to_timedelta(raw[raw.event == travellerEvent.DEPARTS_FROM_PICKUP.name].squeeze().t -  raw[raw.event == travellerEvent.REQUESTS_RIDE.name].squeeze().t,'s')"
   ]
  },
  {
   "cell_type": "code",
   "execution_count": 12,
   "metadata": {},
   "outputs": [
    {
     "name": "stdout",
     "output_type": "stream",
     "text": [
      "lost time after\n"
     ]
    },
    {
     "data": {
      "text/plain": [
       "Timedelta('0 days 00:00:10')"
      ]
     },
     "execution_count": 12,
     "metadata": {},
     "output_type": "execute_result"
    }
   ],
   "source": [
    "print('lost time after')\n",
    "pd.to_timedelta(raw[raw.event == travellerEvent.ARRIVES_AT_DEST.name].squeeze().t -  raw[raw.event == travellerEvent.ARRIVES_AT_DROPOFF.name].squeeze().t,'s')"
   ]
  },
  {
   "cell_type": "code",
   "execution_count": 13,
   "metadata": {},
   "outputs": [
    {
     "name": "stdout",
     "output_type": "stream",
     "text": [
      "total time since request\n"
     ]
    },
    {
     "data": {
      "text/plain": [
       "Timedelta('0 days 00:03:23')"
      ]
     },
     "execution_count": 13,
     "metadata": {},
     "output_type": "execute_result"
    }
   ],
   "source": [
    "print('total time since request')\n",
    "pd.to_timedelta(raw[raw.event == travellerEvent.ARRIVES_AT_DEST.name].squeeze().t -  raw[raw.event == travellerEvent.REQUESTS_RIDE.name].squeeze().t,'s')"
   ]
  },
  {
   "cell_type": "code",
   "execution_count": 14,
   "metadata": {},
   "outputs": [
    {
     "name": "stderr",
     "output_type": "stream",
     "text": [
      "/Users/rkucharski/anaconda3/envs/maassim/lib/python3.7/site-packages/ipykernel_launcher.py:1: SettingWithCopyWarning: \n",
      "A value is trying to be set on a copy of a slice from a DataFrame.\n",
      "Try using .loc[row_indexer,col_indexer] = value instead\n",
      "\n",
      "See the caveats in the documentation: https://pandas.pydata.org/pandas-docs/stable/user_guide/indexing.html#returning-a-view-versus-a-copy\n",
      "  \"\"\"Entry point for launching an IPython kernel.\n"
     ]
    },
    {
     "data": {
      "text/html": [
       "<div>\n",
       "<style scoped>\n",
       "    .dataframe tbody tr th:only-of-type {\n",
       "        vertical-align: middle;\n",
       "    }\n",
       "\n",
       "    .dataframe tbody tr th {\n",
       "        vertical-align: top;\n",
       "    }\n",
       "\n",
       "    .dataframe thead th {\n",
       "        text-align: right;\n",
       "    }\n",
       "</style>\n",
       "<table border=\"1\" class=\"dataframe\">\n",
       "  <thead>\n",
       "    <tr style=\"text-align: right;\">\n",
       "      <th></th>\n",
       "      <th>pax</th>\n",
       "      <th>pos</th>\n",
       "      <th>t</th>\n",
       "      <th>event</th>\n",
       "      <th>veh_id</th>\n",
       "      <th>duration</th>\n",
       "    </tr>\n",
       "  </thead>\n",
       "  <tbody>\n",
       "    <tr>\n",
       "      <th>0</th>\n",
       "      <td>3</td>\n",
       "      <td>44978600</td>\n",
       "      <td>0</td>\n",
       "      <td>STARTS_DAY</td>\n",
       "      <td>NaN</td>\n",
       "      <td>NaT</td>\n",
       "    </tr>\n",
       "    <tr>\n",
       "      <th>1</th>\n",
       "      <td>3</td>\n",
       "      <td>44978600</td>\n",
       "      <td>164</td>\n",
       "      <td>REQUESTS_RIDE</td>\n",
       "      <td>NaN</td>\n",
       "      <td>00:02:44</td>\n",
       "    </tr>\n",
       "    <tr>\n",
       "      <th>2</th>\n",
       "      <td>3</td>\n",
       "      <td>44978600</td>\n",
       "      <td>164</td>\n",
       "      <td>RECEIVES_OFFER</td>\n",
       "      <td>NaN</td>\n",
       "      <td>00:00:00</td>\n",
       "    </tr>\n",
       "    <tr>\n",
       "      <th>3</th>\n",
       "      <td>3</td>\n",
       "      <td>44978600</td>\n",
       "      <td>179</td>\n",
       "      <td>ACCEPTS_OFFER</td>\n",
       "      <td>NaN</td>\n",
       "      <td>00:00:15</td>\n",
       "    </tr>\n",
       "    <tr>\n",
       "      <th>4</th>\n",
       "      <td>3</td>\n",
       "      <td>44978600</td>\n",
       "      <td>199</td>\n",
       "      <td>ARRIVES_AT_PICKUP</td>\n",
       "      <td>8.0</td>\n",
       "      <td>00:00:20</td>\n",
       "    </tr>\n",
       "    <tr>\n",
       "      <th>5</th>\n",
       "      <td>3</td>\n",
       "      <td>44978600</td>\n",
       "      <td>204</td>\n",
       "      <td>MEETS_DRIVER_AT_PICKUP</td>\n",
       "      <td>8.0</td>\n",
       "      <td>00:00:05</td>\n",
       "    </tr>\n",
       "    <tr>\n",
       "      <th>6</th>\n",
       "      <td>3</td>\n",
       "      <td>44978600</td>\n",
       "      <td>234</td>\n",
       "      <td>DEPARTS_FROM_PICKUP</td>\n",
       "      <td>8.0</td>\n",
       "      <td>00:00:30</td>\n",
       "    </tr>\n",
       "    <tr>\n",
       "      <th>7</th>\n",
       "      <td>3</td>\n",
       "      <td>45000745</td>\n",
       "      <td>357</td>\n",
       "      <td>ARRIVES_AT_DROPOFF</td>\n",
       "      <td>8.0</td>\n",
       "      <td>00:02:03</td>\n",
       "    </tr>\n",
       "    <tr>\n",
       "      <th>8</th>\n",
       "      <td>3</td>\n",
       "      <td>45000745</td>\n",
       "      <td>367</td>\n",
       "      <td>SETS_OFF_FOR_DEST</td>\n",
       "      <td>NaN</td>\n",
       "      <td>00:00:10</td>\n",
       "    </tr>\n",
       "    <tr>\n",
       "      <th>9</th>\n",
       "      <td>3</td>\n",
       "      <td>45000745</td>\n",
       "      <td>367</td>\n",
       "      <td>ARRIVES_AT_DEST</td>\n",
       "      <td>NaN</td>\n",
       "      <td>00:00:00</td>\n",
       "    </tr>\n",
       "  </tbody>\n",
       "</table>\n",
       "</div>"
      ],
      "text/plain": [
       "   pax       pos    t                   event  veh_id duration\n",
       "0    3  44978600    0              STARTS_DAY     NaN      NaT\n",
       "1    3  44978600  164           REQUESTS_RIDE     NaN 00:02:44\n",
       "2    3  44978600  164          RECEIVES_OFFER     NaN 00:00:00\n",
       "3    3  44978600  179           ACCEPTS_OFFER     NaN 00:00:15\n",
       "4    3  44978600  199       ARRIVES_AT_PICKUP     8.0 00:00:20\n",
       "5    3  44978600  204  MEETS_DRIVER_AT_PICKUP     8.0 00:00:05\n",
       "6    3  44978600  234     DEPARTS_FROM_PICKUP     8.0 00:00:30\n",
       "7    3  45000745  357      ARRIVES_AT_DROPOFF     8.0 00:02:03\n",
       "8    3  45000745  367       SETS_OFF_FOR_DEST     NaN 00:00:10\n",
       "9    3  45000745  367         ARRIVES_AT_DEST     NaN 00:00:00"
      ]
     },
     "execution_count": 14,
     "metadata": {},
     "output_type": "execute_result"
    }
   ],
   "source": [
    "raw['duration'] = raw.t.diff().apply(lambda x: pd.to_timedelta(x,'s'))\n",
    "raw"
   ]
  },
  {
   "cell_type": "markdown",
   "metadata": {},
   "source": [
    "# Interpretation of _aggr_\n"
   ]
  },
  {
   "cell_type": "code",
   "execution_count": 15,
   "metadata": {},
   "outputs": [
    {
     "data": {
      "text/plain": [
       "DotMap(request=15, transaction=20, pickup=30, dropoff=10, patience=600, pickup_patience=90)"
      ]
     },
     "execution_count": 15,
     "metadata": {},
     "output_type": "execute_result"
    }
   ],
   "source": [
    "params.times"
   ]
  },
  {
   "cell_type": "code",
   "execution_count": 16,
   "metadata": {},
   "outputs": [
    {
     "name": "stdout",
     "output_type": "stream",
     "text": [
      "before request\n",
      "0 days 00:02:44\n"
     ]
    }
   ],
   "source": [
    "print('before request')\n",
    "print(pd.to_timedelta(aggr.REQUESTS_RIDE,'s'))"
   ]
  },
  {
   "cell_type": "code",
   "execution_count": 17,
   "metadata": {},
   "outputs": [
    {
     "name": "stdout",
     "output_type": "stream",
     "text": [
      "waiting for match\n",
      "0 days 00:00:00\n"
     ]
    }
   ],
   "source": [
    "print('waiting for match')\n",
    "print(pd.to_timedelta(aggr.RECEIVES_OFFER,'s'))"
   ]
  },
  {
   "cell_type": "code",
   "execution_count": 18,
   "metadata": {},
   "outputs": [
    {
     "name": "stdout",
     "output_type": "stream",
     "text": [
      "walk to origin\n",
      "0 days 00:00:20\n"
     ]
    }
   ],
   "source": [
    "print('walk to origin')\n",
    "print(pd.to_timedelta(aggr.ARRIVES_AT_PICKUP,'s'))"
   ]
  },
  {
   "cell_type": "code",
   "execution_count": 19,
   "metadata": {},
   "outputs": [
    {
     "name": "stdout",
     "output_type": "stream",
     "text": [
      "waiting time at origin (for vehicle)\n",
      "0 days 00:00:05\n"
     ]
    }
   ],
   "source": [
    "print('waiting time at origin (for vehicle)')\n",
    "print(pd.to_timedelta(aggr.MEETS_DRIVER_AT_PICKUP,'s'))"
   ]
  },
  {
   "cell_type": "code",
   "execution_count": 20,
   "metadata": {},
   "outputs": [
    {
     "name": "stdout",
     "output_type": "stream",
     "text": [
      "starting (in the vehicle before depart)\n",
      "0 days 00:00:30\n"
     ]
    }
   ],
   "source": [
    "print('starting (in the vehicle before depart)')\n",
    "print(pd.to_timedelta(aggr.DEPARTS_FROM_PICKUP,'s'))"
   ]
  },
  {
   "cell_type": "code",
   "execution_count": 21,
   "metadata": {},
   "outputs": [
    {
     "name": "stdout",
     "output_type": "stream",
     "text": [
      "travel time\n",
      "0 days 00:02:03\n"
     ]
    }
   ],
   "source": [
    "print('travel time')\n",
    "print(pd.to_timedelta(aggr.ARRIVES_AT_DROPOFF,'s'))"
   ]
  },
  {
   "cell_type": "code",
   "execution_count": 22,
   "metadata": {},
   "outputs": [
    {
     "name": "stdout",
     "output_type": "stream",
     "text": [
      "leaving the vehicle\n",
      "0 days 00:00:10\n"
     ]
    }
   ],
   "source": [
    "print('leaving the vehicle')\n",
    "print(pd.to_timedelta(aggr.SETS_OFF_FOR_DEST,'s'))"
   ]
  },
  {
   "cell_type": "code",
   "execution_count": 23,
   "metadata": {},
   "outputs": [
    {
     "name": "stdout",
     "output_type": "stream",
     "text": [
      "time to dest (from dropoff)\n",
      "0 days 00:00:00\n"
     ]
    }
   ],
   "source": [
    "print('time to dest (from dropoff)')\n",
    "print(pd.to_timedelta(aggr.ARRIVES_AT_DEST,'s'))"
   ]
  },
  {
   "cell_type": "code",
   "execution_count": 24,
   "metadata": {},
   "outputs": [
    {
     "data": {
      "text/html": [
       "<div>\n",
       "<style scoped>\n",
       "    .dataframe tbody tr th:only-of-type {\n",
       "        vertical-align: middle;\n",
       "    }\n",
       "\n",
       "    .dataframe tbody tr th {\n",
       "        vertical-align: top;\n",
       "    }\n",
       "\n",
       "    .dataframe thead th {\n",
       "        text-align: right;\n",
       "    }\n",
       "</style>\n",
       "<table border=\"1\" class=\"dataframe\">\n",
       "  <thead>\n",
       "    <tr style=\"text-align: right;\">\n",
       "      <th></th>\n",
       "      <th>3</th>\n",
       "    </tr>\n",
       "  </thead>\n",
       "  <tbody>\n",
       "    <tr>\n",
       "      <th>STARTS_DAY</th>\n",
       "      <td>00:00:00</td>\n",
       "    </tr>\n",
       "    <tr>\n",
       "      <th>RECEIVES_OFFER</th>\n",
       "      <td>00:00:00</td>\n",
       "    </tr>\n",
       "    <tr>\n",
       "      <th>IS_REJECTED_BY_VEHICLE</th>\n",
       "      <td>00:00:00</td>\n",
       "    </tr>\n",
       "    <tr>\n",
       "      <th>REJECTS_OFFER</th>\n",
       "      <td>00:00:00</td>\n",
       "    </tr>\n",
       "    <tr>\n",
       "      <th>ARRIVES_AT_DEST</th>\n",
       "      <td>00:00:00</td>\n",
       "    </tr>\n",
       "    <tr>\n",
       "      <th>PREFERS_OTHER_SERVICE</th>\n",
       "      <td>00:00:00</td>\n",
       "    </tr>\n",
       "    <tr>\n",
       "      <th>LOSES_PATIENCE</th>\n",
       "      <td>00:00:00</td>\n",
       "    </tr>\n",
       "    <tr>\n",
       "      <th>MEETS_DRIVER_AT_PICKUP</th>\n",
       "      <td>00:00:05</td>\n",
       "    </tr>\n",
       "    <tr>\n",
       "      <th>SETS_OFF_FOR_DEST</th>\n",
       "      <td>00:00:10</td>\n",
       "    </tr>\n",
       "    <tr>\n",
       "      <th>ACCEPTS_OFFER</th>\n",
       "      <td>00:00:15</td>\n",
       "    </tr>\n",
       "    <tr>\n",
       "      <th>ARRIVES_AT_PICKUP</th>\n",
       "      <td>00:00:20</td>\n",
       "    </tr>\n",
       "    <tr>\n",
       "      <th>DEPARTS_FROM_PICKUP</th>\n",
       "      <td>00:00:30</td>\n",
       "    </tr>\n",
       "    <tr>\n",
       "      <th>ARRIVES_AT_DROPOFF</th>\n",
       "      <td>00:02:03</td>\n",
       "    </tr>\n",
       "    <tr>\n",
       "      <th>REQUESTS_RIDE</th>\n",
       "      <td>00:02:44</td>\n",
       "    </tr>\n",
       "  </tbody>\n",
       "</table>\n",
       "</div>"
      ],
      "text/plain": [
       "                              3\n",
       "STARTS_DAY             00:00:00\n",
       "RECEIVES_OFFER         00:00:00\n",
       "IS_REJECTED_BY_VEHICLE 00:00:00\n",
       "REJECTS_OFFER          00:00:00\n",
       "ARRIVES_AT_DEST        00:00:00\n",
       "PREFERS_OTHER_SERVICE  00:00:00\n",
       "LOSES_PATIENCE         00:00:00\n",
       "MEETS_DRIVER_AT_PICKUP 00:00:05\n",
       "SETS_OFF_FOR_DEST      00:00:10\n",
       "ACCEPTS_OFFER          00:00:15\n",
       "ARRIVES_AT_PICKUP      00:00:20\n",
       "DEPARTS_FROM_PICKUP    00:00:30\n",
       "ARRIVES_AT_DROPOFF     00:02:03\n",
       "REQUESTS_RIDE          00:02:44"
      ]
     },
     "execution_count": 24,
     "metadata": {},
     "output_type": "execute_result"
    }
   ],
   "source": [
    "aggr.apply(lambda x: pd.to_timedelta(x,'s')).sort_values().to_frame()"
   ]
  },
  {
   "cell_type": "markdown",
   "metadata": {},
   "source": [
    "-------------\n",
    "Rafal Kucharski, 2020, Delft, r.m.kucharski@tudelft.nl"
   ]
  }
 ],
 "metadata": {
  "kernelspec": {
   "display_name": "Python 3",
   "language": "python",
   "name": "python3"
  },
  "language_info": {
   "codemirror_mode": {
    "name": "ipython",
    "version": 3
   },
   "file_extension": ".py",
   "mimetype": "text/x-python",
   "name": "python",
   "nbconvert_exporter": "python",
   "pygments_lexer": "ipython3",
   "version": "3.7.6"
  }
 },
 "nbformat": 4,
 "nbformat_minor": 4
}
