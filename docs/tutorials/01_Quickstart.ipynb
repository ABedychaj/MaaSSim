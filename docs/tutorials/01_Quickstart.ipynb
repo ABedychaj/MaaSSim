{
 "cells": [
  {
   "cell_type": "markdown",
   "metadata": {},
   "source": [
    ">\n",
    "> # MaaSSim tutorial\n",
    "\n",
    " ### quickstart"
   ]
  },
  {
   "cell_type": "code",
   "execution_count": 12,
   "metadata": {},
   "outputs": [],
   "source": [
    "import os, sys # add MaaSSim to path (not needed if MaaSSim is already in path)\n",
    "module_path = os.path.abspath(os.path.join('../..'))\n",
    "if module_path not in sys.path:\n",
    "    sys.path.append(module_path)"
   ]
  },
  {
   "cell_type": "markdown",
   "metadata": {},
   "source": [
    "prepare"
   ]
  },
  {
   "cell_type": "code",
   "execution_count": 13,
   "metadata": {},
   "outputs": [],
   "source": [
    "from MaaSSim.utils import get_config, load_G, prep_supply_and_demand  # simulator\n",
    "from MaaSSim.data_structures import structures as inData\n",
    "from MaaSSim.simulators import simulate"
   ]
  },
  {
   "cell_type": "code",
   "execution_count": 14,
   "metadata": {},
   "outputs": [],
   "source": [
    "params = get_config('../../data/config/default.json')  # load configuration"
   ]
  },
  {
   "cell_type": "code",
   "execution_count": 15,
   "metadata": {},
   "outputs": [],
   "source": [
    "params.nP = 2  # parameterize supply \n",
    "params.nV = 1  # and demand"
   ]
  },
  {
   "cell_type": "code",
   "execution_count": 16,
   "metadata": {},
   "outputs": [],
   "source": [
    "inData = load_G(inData, params)  # load network graph "
   ]
  },
  {
   "cell_type": "code",
   "execution_count": 17,
   "metadata": {},
   "outputs": [],
   "source": [
    "inData = prep_supply_and_demand(inData, params)  # generate supply and demand"
   ]
  },
  {
   "cell_type": "markdown",
   "metadata": {},
   "source": [
    "simulate"
   ]
  },
  {
   "cell_type": "code",
   "execution_count": 18,
   "metadata": {},
   "outputs": [
    {
     "name": "stdout",
     "output_type": "stream",
     "text": [
      "06-10-20 11:16:02-WARNING-Setting up 1h simulation at 2020-10-06 10:56:46 for 1 vehicles and 2 passengers in Nootdorp, Netherlands\n",
      "06-10-20 11:16:02-INFO--------------------\tStarting simulation\t-------------------\n",
      "06-10-20 11:16:02-INFO-pax    0  got to dest at                           2020-10-06 11:02:05\n",
      "06-10-20 11:16:02-INFO-pax    1  got to dest at                           2020-10-06 11:28:21\n",
      "06-10-20 11:16:02-INFO-veh    1  quitted shift                            2020-10-06 13:56:45\n",
      "06-10-20 11:16:02-INFO--------------------\tSimulation over\t\t-------------------\n",
      "06-10-20 11:16:02-INFO-queue of requests 0\n",
      "06-10-20 11:16:02-WARNING-simulation time 0.1 s\n",
      "06-10-20 11:16:02-WARNING-assertion tests for simulation results - passed\n"
     ]
    }
   ],
   "source": [
    "sim = simulate(params = params, inData = inData) # simulate"
   ]
  },
  {
   "cell_type": "markdown",
   "metadata": {},
   "source": [
    "### walkthrough"
   ]
  },
  {
   "cell_type": "markdown",
   "metadata": {},
   "source": [
    "demand structure"
   ]
  },
  {
   "cell_type": "code",
   "execution_count": 19,
   "metadata": {},
   "outputs": [
    {
     "data": {
      "text/html": [
       "<div>\n",
       "<style scoped>\n",
       "    .dataframe tbody tr th:only-of-type {\n",
       "        vertical-align: middle;\n",
       "    }\n",
       "\n",
       "    .dataframe tbody tr th {\n",
       "        vertical-align: top;\n",
       "    }\n",
       "\n",
       "    .dataframe thead th {\n",
       "        text-align: right;\n",
       "    }\n",
       "</style>\n",
       "<table border=\"1\" class=\"dataframe\">\n",
       "  <thead>\n",
       "    <tr style=\"text-align: right;\">\n",
       "      <th></th>\n",
       "      <th>pax_id</th>\n",
       "      <th>origin</th>\n",
       "      <th>destination</th>\n",
       "      <th>treq</th>\n",
       "      <th>tdep</th>\n",
       "      <th>ttrav</th>\n",
       "      <th>tarr</th>\n",
       "      <th>tdrop</th>\n",
       "      <th>shareable</th>\n",
       "      <th>schedule_id</th>\n",
       "      <th>dist</th>\n",
       "      <th>platform</th>\n",
       "      <th>ride_id</th>\n",
       "      <th>position</th>\n",
       "      <th>sim_schedule</th>\n",
       "    </tr>\n",
       "  </thead>\n",
       "  <tbody>\n",
       "    <tr>\n",
       "      <th>0</th>\n",
       "      <td>0</td>\n",
       "      <td>1432312427</td>\n",
       "      <td>44991812</td>\n",
       "      <td>2020-10-06 10:56:46</td>\n",
       "      <td>NaN</td>\n",
       "      <td>00:03:09</td>\n",
       "      <td>2020-10-06 10:59:55</td>\n",
       "      <td>NaN</td>\n",
       "      <td>False</td>\n",
       "      <td>NaN</td>\n",
       "      <td>1893</td>\n",
       "      <td>0</td>\n",
       "      <td>0</td>\n",
       "      <td>0</td>\n",
       "      <td>node time  req_id    od\n",
       "0          ...</td>\n",
       "    </tr>\n",
       "    <tr>\n",
       "      <th>1</th>\n",
       "      <td>1</td>\n",
       "      <td>981159463</td>\n",
       "      <td>4290089187</td>\n",
       "      <td>2020-10-06 11:22:58</td>\n",
       "      <td>NaN</td>\n",
       "      <td>00:03:11</td>\n",
       "      <td>2020-10-06 11:26:09</td>\n",
       "      <td>NaN</td>\n",
       "      <td>False</td>\n",
       "      <td>NaN</td>\n",
       "      <td>1910</td>\n",
       "      <td>0</td>\n",
       "      <td>1</td>\n",
       "      <td>0</td>\n",
       "      <td>node time  req_id    od\n",
       "0          ...</td>\n",
       "    </tr>\n",
       "  </tbody>\n",
       "</table>\n",
       "</div>"
      ],
      "text/plain": [
       "   pax_id      origin  destination                treq tdep    ttrav  \\\n",
       "0       0  1432312427     44991812 2020-10-06 10:56:46  NaN 00:03:09   \n",
       "1       1   981159463   4290089187 2020-10-06 11:22:58  NaN 00:03:11   \n",
       "\n",
       "                 tarr tdrop  shareable schedule_id  dist  platform  ride_id  \\\n",
       "0 2020-10-06 10:59:55   NaN      False         NaN  1893         0        0   \n",
       "1 2020-10-06 11:26:09   NaN      False         NaN  1910         0        1   \n",
       "\n",
       "   position                                       sim_schedule  \n",
       "0         0             node time  req_id    od\n",
       "0          ...  \n",
       "1         0             node time  req_id    od\n",
       "0          ...  "
      ]
     },
     "execution_count": 19,
     "metadata": {},
     "output_type": "execute_result"
    }
   ],
   "source": [
    "inData.requests.head(2)"
   ]
  },
  {
   "cell_type": "code",
   "execution_count": 20,
   "metadata": {},
   "outputs": [
    {
     "data": {
      "text/html": [
       "<div>\n",
       "<style scoped>\n",
       "    .dataframe tbody tr th:only-of-type {\n",
       "        vertical-align: middle;\n",
       "    }\n",
       "\n",
       "    .dataframe tbody tr th {\n",
       "        vertical-align: top;\n",
       "    }\n",
       "\n",
       "    .dataframe thead th {\n",
       "        text-align: right;\n",
       "    }\n",
       "</style>\n",
       "<table border=\"1\" class=\"dataframe\">\n",
       "  <thead>\n",
       "    <tr style=\"text-align: right;\">\n",
       "      <th></th>\n",
       "      <th>pos</th>\n",
       "      <th>event</th>\n",
       "      <th>shift_start</th>\n",
       "      <th>shift_end</th>\n",
       "      <th>platform</th>\n",
       "      <th>expected_income</th>\n",
       "    </tr>\n",
       "    <tr>\n",
       "      <th>veh</th>\n",
       "      <th></th>\n",
       "      <th></th>\n",
       "      <th></th>\n",
       "      <th></th>\n",
       "      <th></th>\n",
       "      <th></th>\n",
       "    </tr>\n",
       "  </thead>\n",
       "  <tbody>\n",
       "    <tr>\n",
       "      <th>1</th>\n",
       "      <td>4.290089e+09</td>\n",
       "      <td>driverEvent.ENDS_SHIFT</td>\n",
       "      <td>0</td>\n",
       "      <td>86400</td>\n",
       "      <td>0</td>\n",
       "      <td>NaN</td>\n",
       "    </tr>\n",
       "  </tbody>\n",
       "</table>\n",
       "</div>"
      ],
      "text/plain": [
       "              pos                   event  shift_start  shift_end  platform  \\\n",
       "veh                                                                           \n",
       "1    4.290089e+09  driverEvent.ENDS_SHIFT            0      86400         0   \n",
       "\n",
       "     expected_income  \n",
       "veh                   \n",
       "1                NaN  "
      ]
     },
     "execution_count": 20,
     "metadata": {},
     "output_type": "execute_result"
    }
   ],
   "source": [
    "inData.vehicles.head(2)"
   ]
  },
  {
   "cell_type": "code",
   "execution_count": 21,
   "metadata": {},
   "outputs": [
    {
     "data": {
      "text/html": [
       "<div>\n",
       "<style scoped>\n",
       "    .dataframe tbody tr th:only-of-type {\n",
       "        vertical-align: middle;\n",
       "    }\n",
       "\n",
       "    .dataframe tbody tr th {\n",
       "        vertical-align: top;\n",
       "    }\n",
       "\n",
       "    .dataframe thead th {\n",
       "        text-align: right;\n",
       "    }\n",
       "</style>\n",
       "<table border=\"1\" class=\"dataframe\">\n",
       "  <thead>\n",
       "    <tr style=\"text-align: right;\">\n",
       "      <th></th>\n",
       "      <th>pos</th>\n",
       "      <th>event</th>\n",
       "      <th>platforms</th>\n",
       "    </tr>\n",
       "  </thead>\n",
       "  <tbody>\n",
       "    <tr>\n",
       "      <th>0</th>\n",
       "      <td>1432312427</td>\n",
       "      <td>NaN</td>\n",
       "      <td>[0]</td>\n",
       "    </tr>\n",
       "    <tr>\n",
       "      <th>1</th>\n",
       "      <td>981159463</td>\n",
       "      <td>NaN</td>\n",
       "      <td>[0]</td>\n",
       "    </tr>\n",
       "  </tbody>\n",
       "</table>\n",
       "</div>"
      ],
      "text/plain": [
       "          pos event platforms\n",
       "0  1432312427   NaN       [0]\n",
       "1   981159463   NaN       [0]"
      ]
     },
     "execution_count": 21,
     "metadata": {},
     "output_type": "execute_result"
    }
   ],
   "source": [
    "inData.passengers.head(2)"
   ]
  },
  {
   "cell_type": "markdown",
   "metadata": {},
   "source": [
    "#### visualize the demand"
   ]
  },
  {
   "cell_type": "code",
   "execution_count": 22,
   "metadata": {},
   "outputs": [
    {
     "data": {
      "image/png": "[encoded data removed]",
      "text/plain": [
       "<Figure size 432x288 with 3 Axes>"
      ]
     },
     "metadata": {
      "needs_background": "light"
     },
     "output_type": "display_data"
    },
    {
     "data": {
      "image/png": "[encoded data removed]",
      "text/plain": [
       "<Figure size 1080x1080 with 1 Axes>"
      ]
     },
     "metadata": {},
     "output_type": "display_data"
    }
   ],
   "source": [
    "#import matplotlib.pyplot as plt\n",
    "#inData.requests['dist'] = [inData.skim[request.origin]\n",
    "#                           [request.destination] for _, request in inData.requests.iterrows()]     \n",
    "from MaaSSim.visualizations import plot_demand\n",
    "plot_demand(inData, vehicles = True, s = 10, params = params)"
   ]
  },
  {
   "cell_type": "markdown",
   "metadata": {},
   "source": [
    "#### results (raw)"
   ]
  },
  {
   "cell_type": "code",
   "execution_count": 12,
   "metadata": {},
   "outputs": [
    {
     "data": {
      "text/plain": [
       "[0]"
      ]
     },
     "execution_count": 12,
     "metadata": {},
     "output_type": "execute_result"
    }
   ],
   "source": [
    "list(sim.runs.keys()) #consecutive runs"
   ]
  },
  {
   "cell_type": "code",
   "execution_count": 13,
   "metadata": {},
   "outputs": [
    {
     "data": {
      "text/plain": [
       "['trips', 'outcomes', 'rides', 'queues']"
      ]
     },
     "execution_count": 13,
     "metadata": {},
     "output_type": "execute_result"
    }
   ],
   "source": [
    "list(sim.runs[0].keys()) # single run results"
   ]
  },
  {
   "cell_type": "markdown",
   "metadata": {},
   "source": [
    "passengers raw results"
   ]
  },
  {
   "cell_type": "code",
   "execution_count": 14,
   "metadata": {},
   "outputs": [
    {
     "data": {
      "text/html": [
       "<div>\n",
       "<style scoped>\n",
       "    .dataframe tbody tr th:only-of-type {\n",
       "        vertical-align: middle;\n",
       "    }\n",
       "\n",
       "    .dataframe tbody tr th {\n",
       "        vertical-align: top;\n",
       "    }\n",
       "\n",
       "    .dataframe thead th {\n",
       "        text-align: right;\n",
       "    }\n",
       "</style>\n",
       "<table border=\"1\" class=\"dataframe\">\n",
       "  <thead>\n",
       "    <tr style=\"text-align: right;\">\n",
       "      <th></th>\n",
       "      <th>pax</th>\n",
       "      <th>pos</th>\n",
       "      <th>t</th>\n",
       "      <th>event</th>\n",
       "      <th>veh_id</th>\n",
       "    </tr>\n",
       "  </thead>\n",
       "  <tbody>\n",
       "    <tr>\n",
       "      <th>0</th>\n",
       "      <td>0</td>\n",
       "      <td>45028719</td>\n",
       "      <td>0</td>\n",
       "      <td>STARTS_DAY</td>\n",
       "      <td>NaN</td>\n",
       "    </tr>\n",
       "    <tr>\n",
       "      <th>1</th>\n",
       "      <td>0</td>\n",
       "      <td>45028719</td>\n",
       "      <td>0</td>\n",
       "      <td>REQUESTS_RIDE</td>\n",
       "      <td>NaN</td>\n",
       "    </tr>\n",
       "    <tr>\n",
       "      <th>2</th>\n",
       "      <td>0</td>\n",
       "      <td>45028719</td>\n",
       "      <td>0</td>\n",
       "      <td>RECEIVES_OFFER</td>\n",
       "      <td>NaN</td>\n",
       "    </tr>\n",
       "    <tr>\n",
       "      <th>3</th>\n",
       "      <td>0</td>\n",
       "      <td>45028719</td>\n",
       "      <td>15</td>\n",
       "      <td>ACCEPTS_OFFER</td>\n",
       "      <td>NaN</td>\n",
       "    </tr>\n",
       "    <tr>\n",
       "      <th>4</th>\n",
       "      <td>0</td>\n",
       "      <td>45028719</td>\n",
       "      <td>35</td>\n",
       "      <td>ARRIVES_AT_PICKUP</td>\n",
       "      <td>1.0</td>\n",
       "    </tr>\n",
       "    <tr>\n",
       "      <th>5</th>\n",
       "      <td>0</td>\n",
       "      <td>45028719</td>\n",
       "      <td>467</td>\n",
       "      <td>MEETS_DRIVER_AT_PICKUP</td>\n",
       "      <td>1.0</td>\n",
       "    </tr>\n",
       "    <tr>\n",
       "      <th>6</th>\n",
       "      <td>0</td>\n",
       "      <td>45028719</td>\n",
       "      <td>497</td>\n",
       "      <td>DEPARTS_FROM_PICKUP</td>\n",
       "      <td>1.0</td>\n",
       "    </tr>\n",
       "    <tr>\n",
       "      <th>7</th>\n",
       "      <td>0</td>\n",
       "      <td>1658828038</td>\n",
       "      <td>733</td>\n",
       "      <td>ARRIVES_AT_DROPOFF</td>\n",
       "      <td>1.0</td>\n",
       "    </tr>\n",
       "    <tr>\n",
       "      <th>8</th>\n",
       "      <td>0</td>\n",
       "      <td>1658828038</td>\n",
       "      <td>743</td>\n",
       "      <td>SETS_OFF_FOR_DEST</td>\n",
       "      <td>NaN</td>\n",
       "    </tr>\n",
       "    <tr>\n",
       "      <th>9</th>\n",
       "      <td>0</td>\n",
       "      <td>1658828038</td>\n",
       "      <td>743</td>\n",
       "      <td>ARRIVES_AT_DEST</td>\n",
       "      <td>NaN</td>\n",
       "    </tr>\n",
       "  </tbody>\n",
       "</table>\n",
       "</div>"
      ],
      "text/plain": [
       "   pax         pos    t                   event  veh_id\n",
       "0    0    45028719    0              STARTS_DAY     NaN\n",
       "1    0    45028719    0           REQUESTS_RIDE     NaN\n",
       "2    0    45028719    0          RECEIVES_OFFER     NaN\n",
       "3    0    45028719   15           ACCEPTS_OFFER     NaN\n",
       "4    0    45028719   35       ARRIVES_AT_PICKUP     1.0\n",
       "5    0    45028719  467  MEETS_DRIVER_AT_PICKUP     1.0\n",
       "6    0    45028719  497     DEPARTS_FROM_PICKUP     1.0\n",
       "7    0  1658828038  733      ARRIVES_AT_DROPOFF     1.0\n",
       "8    0  1658828038  743       SETS_OFF_FOR_DEST     NaN\n",
       "9    0  1658828038  743         ARRIVES_AT_DEST     NaN"
      ]
     },
     "execution_count": 14,
     "metadata": {},
     "output_type": "execute_result"
    }
   ],
   "source": [
    "sim.runs[0].trips.head(10) #trip segment reports"
   ]
  },
  {
   "cell_type": "markdown",
   "metadata": {},
   "source": [
    "vehicles raw results"
   ]
  },
  {
   "cell_type": "code",
   "execution_count": 15,
   "metadata": {},
   "outputs": [
    {
     "data": {
      "text/html": [
       "<div>\n",
       "<style scoped>\n",
       "    .dataframe tbody tr th:only-of-type {\n",
       "        vertical-align: middle;\n",
       "    }\n",
       "\n",
       "    .dataframe tbody tr th {\n",
       "        vertical-align: top;\n",
       "    }\n",
       "\n",
       "    .dataframe thead th {\n",
       "        text-align: right;\n",
       "    }\n",
       "</style>\n",
       "<table border=\"1\" class=\"dataframe\">\n",
       "  <thead>\n",
       "    <tr style=\"text-align: right;\">\n",
       "      <th></th>\n",
       "      <th>veh</th>\n",
       "      <th>pos</th>\n",
       "      <th>t</th>\n",
       "      <th>event</th>\n",
       "      <th>paxes</th>\n",
       "    </tr>\n",
       "  </thead>\n",
       "  <tbody>\n",
       "    <tr>\n",
       "      <th>0</th>\n",
       "      <td>1</td>\n",
       "      <td>4.938564e+08</td>\n",
       "      <td>0</td>\n",
       "      <td>STARTS_DAY</td>\n",
       "      <td>[]</td>\n",
       "    </tr>\n",
       "    <tr>\n",
       "      <th>1</th>\n",
       "      <td>1</td>\n",
       "      <td>4.938564e+08</td>\n",
       "      <td>0</td>\n",
       "      <td>OPENS_APP</td>\n",
       "      <td>[]</td>\n",
       "    </tr>\n",
       "    <tr>\n",
       "      <th>2</th>\n",
       "      <td>1</td>\n",
       "      <td>4.938564e+08</td>\n",
       "      <td>0</td>\n",
       "      <td>RECEIVES_REQUEST</td>\n",
       "      <td>[]</td>\n",
       "    </tr>\n",
       "    <tr>\n",
       "      <th>3</th>\n",
       "      <td>1</td>\n",
       "      <td>4.938564e+08</td>\n",
       "      <td>15</td>\n",
       "      <td>ACCEPTS_REQUEST</td>\n",
       "      <td>[]</td>\n",
       "    </tr>\n",
       "    <tr>\n",
       "      <th>4</th>\n",
       "      <td>1</td>\n",
       "      <td>4.938564e+08</td>\n",
       "      <td>35</td>\n",
       "      <td>IS_ACCEPTED_BY_TRAVELLER</td>\n",
       "      <td>[]</td>\n",
       "    </tr>\n",
       "    <tr>\n",
       "      <th>5</th>\n",
       "      <td>1</td>\n",
       "      <td>4.502872e+07</td>\n",
       "      <td>467</td>\n",
       "      <td>ARRIVES_AT_PICKUP</td>\n",
       "      <td>[]</td>\n",
       "    </tr>\n",
       "    <tr>\n",
       "      <th>6</th>\n",
       "      <td>1</td>\n",
       "      <td>4.502872e+07</td>\n",
       "      <td>467</td>\n",
       "      <td>MEETS_TRAVELLER_AT_PICKUP</td>\n",
       "      <td>[]</td>\n",
       "    </tr>\n",
       "    <tr>\n",
       "      <th>7</th>\n",
       "      <td>1</td>\n",
       "      <td>4.502872e+07</td>\n",
       "      <td>497</td>\n",
       "      <td>DEPARTS_FROM_PICKUP</td>\n",
       "      <td>[0]</td>\n",
       "    </tr>\n",
       "    <tr>\n",
       "      <th>8</th>\n",
       "      <td>1</td>\n",
       "      <td>1.658828e+09</td>\n",
       "      <td>733</td>\n",
       "      <td>ARRIVES_AT_DROPOFF</td>\n",
       "      <td>[0]</td>\n",
       "    </tr>\n",
       "    <tr>\n",
       "      <th>9</th>\n",
       "      <td>1</td>\n",
       "      <td>1.658828e+09</td>\n",
       "      <td>1757</td>\n",
       "      <td>RECEIVES_REQUEST</td>\n",
       "      <td>[]</td>\n",
       "    </tr>\n",
       "    <tr>\n",
       "      <th>10</th>\n",
       "      <td>1</td>\n",
       "      <td>1.658828e+09</td>\n",
       "      <td>1772</td>\n",
       "      <td>ACCEPTS_REQUEST</td>\n",
       "      <td>[]</td>\n",
       "    </tr>\n",
       "    <tr>\n",
       "      <th>11</th>\n",
       "      <td>1</td>\n",
       "      <td>1.658828e+09</td>\n",
       "      <td>1792</td>\n",
       "      <td>IS_ACCEPTED_BY_TRAVELLER</td>\n",
       "      <td>[]</td>\n",
       "    </tr>\n",
       "    <tr>\n",
       "      <th>12</th>\n",
       "      <td>1</td>\n",
       "      <td>4.502872e+07</td>\n",
       "      <td>2007</td>\n",
       "      <td>ARRIVES_AT_PICKUP</td>\n",
       "      <td>[]</td>\n",
       "    </tr>\n",
       "    <tr>\n",
       "      <th>13</th>\n",
       "      <td>1</td>\n",
       "      <td>4.502872e+07</td>\n",
       "      <td>2007</td>\n",
       "      <td>MEETS_TRAVELLER_AT_PICKUP</td>\n",
       "      <td>[]</td>\n",
       "    </tr>\n",
       "    <tr>\n",
       "      <th>14</th>\n",
       "      <td>1</td>\n",
       "      <td>4.502872e+07</td>\n",
       "      <td>2037</td>\n",
       "      <td>DEPARTS_FROM_PICKUP</td>\n",
       "      <td>[1]</td>\n",
       "    </tr>\n",
       "    <tr>\n",
       "      <th>15</th>\n",
       "      <td>1</td>\n",
       "      <td>4.502346e+07</td>\n",
       "      <td>2196</td>\n",
       "      <td>ARRIVES_AT_DROPOFF</td>\n",
       "      <td>[1]</td>\n",
       "    </tr>\n",
       "    <tr>\n",
       "      <th>16</th>\n",
       "      <td>1</td>\n",
       "      <td>4.502346e+07</td>\n",
       "      <td>10799</td>\n",
       "      <td>ENDS_SHIFT</td>\n",
       "      <td>[]</td>\n",
       "    </tr>\n",
       "  </tbody>\n",
       "</table>\n",
       "</div>"
      ],
      "text/plain": [
       "    veh           pos      t                      event paxes\n",
       "0     1  4.938564e+08      0                 STARTS_DAY    []\n",
       "1     1  4.938564e+08      0                  OPENS_APP    []\n",
       "2     1  4.938564e+08      0           RECEIVES_REQUEST    []\n",
       "3     1  4.938564e+08     15            ACCEPTS_REQUEST    []\n",
       "4     1  4.938564e+08     35   IS_ACCEPTED_BY_TRAVELLER    []\n",
       "5     1  4.502872e+07    467          ARRIVES_AT_PICKUP    []\n",
       "6     1  4.502872e+07    467  MEETS_TRAVELLER_AT_PICKUP    []\n",
       "7     1  4.502872e+07    497        DEPARTS_FROM_PICKUP   [0]\n",
       "8     1  1.658828e+09    733         ARRIVES_AT_DROPOFF   [0]\n",
       "9     1  1.658828e+09   1757           RECEIVES_REQUEST    []\n",
       "10    1  1.658828e+09   1772            ACCEPTS_REQUEST    []\n",
       "11    1  1.658828e+09   1792   IS_ACCEPTED_BY_TRAVELLER    []\n",
       "12    1  4.502872e+07   2007          ARRIVES_AT_PICKUP    []\n",
       "13    1  4.502872e+07   2007  MEETS_TRAVELLER_AT_PICKUP    []\n",
       "14    1  4.502872e+07   2037        DEPARTS_FROM_PICKUP   [1]\n",
       "15    1  4.502346e+07   2196         ARRIVES_AT_DROPOFF   [1]\n",
       "16    1  4.502346e+07  10799                 ENDS_SHIFT    []"
      ]
     },
     "execution_count": 15,
     "metadata": {},
     "output_type": "execute_result"
    }
   ],
   "source": [
    "df = sim.runs[0].rides\n",
    "df[df.veh == 1]"
   ]
  },
  {
   "cell_type": "markdown",
   "metadata": {},
   "source": [
    "### visualization"
   ]
  },
  {
   "cell_type": "code",
   "execution_count": 16,
   "metadata": {},
   "outputs": [
    {
     "data": {
      "text/html": [
       "<div>\n",
       "<style scoped>\n",
       "    .dataframe tbody tr th:only-of-type {\n",
       "        vertical-align: middle;\n",
       "    }\n",
       "\n",
       "    .dataframe tbody tr th {\n",
       "        vertical-align: top;\n",
       "    }\n",
       "\n",
       "    .dataframe thead th {\n",
       "        text-align: right;\n",
       "    }\n",
       "</style>\n",
       "<table border=\"1\" class=\"dataframe\">\n",
       "  <thead>\n",
       "    <tr style=\"text-align: right;\">\n",
       "      <th></th>\n",
       "      <th>pax</th>\n",
       "      <th>pos</th>\n",
       "      <th>t</th>\n",
       "      <th>event</th>\n",
       "      <th>veh_id</th>\n",
       "    </tr>\n",
       "  </thead>\n",
       "  <tbody>\n",
       "    <tr>\n",
       "      <th>0</th>\n",
       "      <td>1</td>\n",
       "      <td>45028719</td>\n",
       "      <td>0</td>\n",
       "      <td>STARTS_DAY</td>\n",
       "      <td>NaN</td>\n",
       "    </tr>\n",
       "    <tr>\n",
       "      <th>1</th>\n",
       "      <td>1</td>\n",
       "      <td>45028719</td>\n",
       "      <td>1757</td>\n",
       "      <td>REQUESTS_RIDE</td>\n",
       "      <td>NaN</td>\n",
       "    </tr>\n",
       "    <tr>\n",
       "      <th>2</th>\n",
       "      <td>1</td>\n",
       "      <td>45028719</td>\n",
       "      <td>1757</td>\n",
       "      <td>RECEIVES_OFFER</td>\n",
       "      <td>NaN</td>\n",
       "    </tr>\n",
       "    <tr>\n",
       "      <th>3</th>\n",
       "      <td>1</td>\n",
       "      <td>45028719</td>\n",
       "      <td>1772</td>\n",
       "      <td>ACCEPTS_OFFER</td>\n",
       "      <td>NaN</td>\n",
       "    </tr>\n",
       "    <tr>\n",
       "      <th>4</th>\n",
       "      <td>1</td>\n",
       "      <td>45028719</td>\n",
       "      <td>1792</td>\n",
       "      <td>ARRIVES_AT_PICKUP</td>\n",
       "      <td>1.0</td>\n",
       "    </tr>\n",
       "    <tr>\n",
       "      <th>5</th>\n",
       "      <td>1</td>\n",
       "      <td>45028719</td>\n",
       "      <td>2007</td>\n",
       "      <td>MEETS_DRIVER_AT_PICKUP</td>\n",
       "      <td>1.0</td>\n",
       "    </tr>\n",
       "    <tr>\n",
       "      <th>6</th>\n",
       "      <td>1</td>\n",
       "      <td>45028719</td>\n",
       "      <td>2037</td>\n",
       "      <td>DEPARTS_FROM_PICKUP</td>\n",
       "      <td>1.0</td>\n",
       "    </tr>\n",
       "    <tr>\n",
       "      <th>7</th>\n",
       "      <td>1</td>\n",
       "      <td>45023464</td>\n",
       "      <td>2196</td>\n",
       "      <td>ARRIVES_AT_DROPOFF</td>\n",
       "      <td>1.0</td>\n",
       "    </tr>\n",
       "    <tr>\n",
       "      <th>8</th>\n",
       "      <td>1</td>\n",
       "      <td>45023464</td>\n",
       "      <td>2206</td>\n",
       "      <td>SETS_OFF_FOR_DEST</td>\n",
       "      <td>NaN</td>\n",
       "    </tr>\n",
       "    <tr>\n",
       "      <th>9</th>\n",
       "      <td>1</td>\n",
       "      <td>45023464</td>\n",
       "      <td>2206</td>\n",
       "      <td>ARRIVES_AT_DEST</td>\n",
       "      <td>NaN</td>\n",
       "    </tr>\n",
       "  </tbody>\n",
       "</table>\n",
       "</div>"
      ],
      "text/plain": [
       "   pax       pos     t                   event  veh_id\n",
       "0    1  45028719     0              STARTS_DAY     NaN\n",
       "1    1  45028719  1757           REQUESTS_RIDE     NaN\n",
       "2    1  45028719  1757          RECEIVES_OFFER     NaN\n",
       "3    1  45028719  1772           ACCEPTS_OFFER     NaN\n",
       "4    1  45028719  1792       ARRIVES_AT_PICKUP     1.0\n",
       "5    1  45028719  2007  MEETS_DRIVER_AT_PICKUP     1.0\n",
       "6    1  45028719  2037     DEPARTS_FROM_PICKUP     1.0\n",
       "7    1  45023464  2196      ARRIVES_AT_DROPOFF     1.0\n",
       "8    1  45023464  2206       SETS_OFF_FOR_DEST     NaN\n",
       "9    1  45023464  2206         ARRIVES_AT_DEST     NaN"
      ]
     },
     "execution_count": 16,
     "metadata": {},
     "output_type": "execute_result"
    }
   ],
   "source": [
    "df = sim.runs[0].trips\n",
    "df = df[df.pax == 1]\n",
    "df"
   ]
  },
  {
   "cell_type": "code",
   "execution_count": 17,
   "metadata": {},
   "outputs": [
    {
     "data": {
      "image/png": "[encoded data removed]",
      "text/plain": [
       "<Figure size 1080x1080 with 1 Axes>"
      ]
     },
     "metadata": {},
     "output_type": "display_data"
    }
   ],
   "source": [
    "from MaaSSim.visualizations import plot_veh\n",
    "df = sim.runs[0].rides\n",
    "plot_veh(inData.G, df[df.veh ==1])"
   ]
  },
  {
   "cell_type": "markdown",
   "metadata": {},
   "source": [
    "### results processed"
   ]
  },
  {
   "cell_type": "code",
   "execution_count": 18,
   "metadata": {},
   "outputs": [],
   "source": [
    "sim.output() # call to generate reports"
   ]
  },
  {
   "cell_type": "code",
   "execution_count": 19,
   "metadata": {},
   "outputs": [
    {
     "data": {
      "text/plain": [
       "['pax_exp', 'pax_kpi', 'veh_exp', 'veh_kpi']"
      ]
     },
     "execution_count": 19,
     "metadata": {},
     "output_type": "execute_result"
    }
   ],
   "source": [
    "list(sim.res[0].keys())"
   ]
  },
  {
   "cell_type": "code",
   "execution_count": 20,
   "metadata": {},
   "outputs": [
    {
     "data": {
      "text/html": [
       "<div>\n",
       "<style scoped>\n",
       "    .dataframe tbody tr th:only-of-type {\n",
       "        vertical-align: middle;\n",
       "    }\n",
       "\n",
       "    .dataframe tbody tr th {\n",
       "        vertical-align: top;\n",
       "    }\n",
       "\n",
       "    .dataframe thead th {\n",
       "        text-align: right;\n",
       "    }\n",
       "</style>\n",
       "<table border=\"1\" class=\"dataframe\">\n",
       "  <thead>\n",
       "    <tr style=\"text-align: right;\">\n",
       "      <th></th>\n",
       "      <th>ACCEPTS_OFFER</th>\n",
       "      <th>ARRIVES_AT_DROPOFF</th>\n",
       "      <th>ARRIVES_AT_PICKUP</th>\n",
       "      <th>DEPARTS_FROM_PICKUP</th>\n",
       "      <th>MEETS_DRIVER_AT_PICKUP</th>\n",
       "      <th>REQUESTS_RIDE</th>\n",
       "      <th>SETS_OFF_FOR_DEST</th>\n",
       "      <th>STARTS_DAY</th>\n",
       "      <th>RECEIVES_OFFER</th>\n",
       "      <th>IS_REJECTED_BY_VEHICLE</th>\n",
       "      <th>REJECTS_OFFER</th>\n",
       "      <th>ARRIVES_AT_DEST</th>\n",
       "      <th>PREFERS_OTHER_SERVICE</th>\n",
       "      <th>LOSES_PATIENCE</th>\n",
       "      <th>nP</th>\n",
       "    </tr>\n",
       "  </thead>\n",
       "  <tbody>\n",
       "    <tr>\n",
       "      <th>sum</th>\n",
       "      <td>30.0</td>\n",
       "      <td>395.000000</td>\n",
       "      <td>40.0</td>\n",
       "      <td>60.0</td>\n",
       "      <td>647.000000</td>\n",
       "      <td>1757.0</td>\n",
       "      <td>20.0</td>\n",
       "      <td>0.0</td>\n",
       "      <td>0.0</td>\n",
       "      <td>0.0</td>\n",
       "      <td>0.0</td>\n",
       "      <td>0.0</td>\n",
       "      <td>0.0</td>\n",
       "      <td>0.0</td>\n",
       "      <td>2</td>\n",
       "    </tr>\n",
       "    <tr>\n",
       "      <th>mean</th>\n",
       "      <td>15.0</td>\n",
       "      <td>197.500000</td>\n",
       "      <td>20.0</td>\n",
       "      <td>30.0</td>\n",
       "      <td>323.500000</td>\n",
       "      <td>1757.0</td>\n",
       "      <td>10.0</td>\n",
       "      <td>0.0</td>\n",
       "      <td>0.0</td>\n",
       "      <td>0.0</td>\n",
       "      <td>0.0</td>\n",
       "      <td>0.0</td>\n",
       "      <td>0.0</td>\n",
       "      <td>0.0</td>\n",
       "      <td>2</td>\n",
       "    </tr>\n",
       "    <tr>\n",
       "      <th>std</th>\n",
       "      <td>0.0</td>\n",
       "      <td>54.447222</td>\n",
       "      <td>0.0</td>\n",
       "      <td>0.0</td>\n",
       "      <td>153.442172</td>\n",
       "      <td>NaN</td>\n",
       "      <td>0.0</td>\n",
       "      <td>0.0</td>\n",
       "      <td>0.0</td>\n",
       "      <td>0.0</td>\n",
       "      <td>0.0</td>\n",
       "      <td>0.0</td>\n",
       "      <td>0.0</td>\n",
       "      <td>0.0</td>\n",
       "      <td>2</td>\n",
       "    </tr>\n",
       "  </tbody>\n",
       "</table>\n",
       "</div>"
      ],
      "text/plain": [
       "      ACCEPTS_OFFER  ARRIVES_AT_DROPOFF  ARRIVES_AT_PICKUP  \\\n",
       "sum            30.0          395.000000               40.0   \n",
       "mean           15.0          197.500000               20.0   \n",
       "std             0.0           54.447222                0.0   \n",
       "\n",
       "      DEPARTS_FROM_PICKUP  MEETS_DRIVER_AT_PICKUP  REQUESTS_RIDE  \\\n",
       "sum                  60.0              647.000000         1757.0   \n",
       "mean                 30.0              323.500000         1757.0   \n",
       "std                   0.0              153.442172            NaN   \n",
       "\n",
       "      SETS_OFF_FOR_DEST  STARTS_DAY  RECEIVES_OFFER  IS_REJECTED_BY_VEHICLE  \\\n",
       "sum                20.0         0.0             0.0                     0.0   \n",
       "mean               10.0         0.0             0.0                     0.0   \n",
       "std                 0.0         0.0             0.0                     0.0   \n",
       "\n",
       "      REJECTS_OFFER  ARRIVES_AT_DEST  PREFERS_OTHER_SERVICE  LOSES_PATIENCE  \\\n",
       "sum             0.0              0.0                    0.0             0.0   \n",
       "mean            0.0              0.0                    0.0             0.0   \n",
       "std             0.0              0.0                    0.0             0.0   \n",
       "\n",
       "      nP  \n",
       "sum    2  \n",
       "mean   2  \n",
       "std    2  "
      ]
     },
     "execution_count": 20,
     "metadata": {},
     "output_type": "execute_result"
    }
   ],
   "source": [
    "sim.res[0].pax_kpi"
   ]
  },
  {
   "cell_type": "code",
   "execution_count": 21,
   "metadata": {},
   "outputs": [
    {
     "data": {
      "text/html": [
       "<div>\n",
       "<style scoped>\n",
       "    .dataframe tbody tr th:only-of-type {\n",
       "        vertical-align: middle;\n",
       "    }\n",
       "\n",
       "    .dataframe tbody tr th {\n",
       "        vertical-align: top;\n",
       "    }\n",
       "\n",
       "    .dataframe thead th {\n",
       "        text-align: right;\n",
       "    }\n",
       "</style>\n",
       "<table border=\"1\" class=\"dataframe\">\n",
       "  <thead>\n",
       "    <tr style=\"text-align: right;\">\n",
       "      <th></th>\n",
       "      <th>sum</th>\n",
       "      <th>mean</th>\n",
       "      <th>std</th>\n",
       "    </tr>\n",
       "  </thead>\n",
       "  <tbody>\n",
       "    <tr>\n",
       "      <th>nRIDES</th>\n",
       "      <td>2.0</td>\n",
       "      <td>2.0</td>\n",
       "      <td>NaN</td>\n",
       "    </tr>\n",
       "  </tbody>\n",
       "</table>\n",
       "</div>"
      ],
      "text/plain": [
       "        sum  mean  std\n",
       "nRIDES  2.0   2.0  NaN"
      ]
     },
     "execution_count": 21,
     "metadata": {},
     "output_type": "execute_result"
    }
   ],
   "source": [
    "sim.res[0].veh_kpi.T.head(1)"
   ]
  },
  {
   "cell_type": "code",
   "execution_count": 22,
   "metadata": {},
   "outputs": [
    {
     "data": {
      "text/html": [
       "<div>\n",
       "<style scoped>\n",
       "    .dataframe tbody tr th:only-of-type {\n",
       "        vertical-align: middle;\n",
       "    }\n",
       "\n",
       "    .dataframe tbody tr th {\n",
       "        vertical-align: top;\n",
       "    }\n",
       "\n",
       "    .dataframe thead th {\n",
       "        text-align: right;\n",
       "    }\n",
       "</style>\n",
       "<table border=\"1\" class=\"dataframe\">\n",
       "  <thead>\n",
       "    <tr style=\"text-align: right;\">\n",
       "      <th></th>\n",
       "      <th>nRIDES</th>\n",
       "      <th>nREJECTED</th>\n",
       "      <th>OUT</th>\n",
       "      <th>STARTS_DAY</th>\n",
       "      <th>OPENS_APP</th>\n",
       "      <th>RECEIVES_REQUEST</th>\n",
       "      <th>ACCEPTS_REQUEST</th>\n",
       "      <th>REJECTS_REQUEST</th>\n",
       "      <th>IS_ACCEPTED_BY_TRAVELLER</th>\n",
       "      <th>IS_REJECTED_BY_TRAVELLER</th>\n",
       "      <th>ARRIVES_AT_PICKUP</th>\n",
       "      <th>MEETS_TRAVELLER_AT_PICKUP</th>\n",
       "      <th>DEPARTS_FROM_PICKUP</th>\n",
       "      <th>ARRIVES_AT_DROPOFF</th>\n",
       "      <th>CONTINUES_SHIFT</th>\n",
       "      <th>STARTS_REPOSITIONING</th>\n",
       "      <th>REPOSITIONED</th>\n",
       "      <th>DECIDES_NOT_TO_DRIVE</th>\n",
       "      <th>ENDS_SHIFT</th>\n",
       "    </tr>\n",
       "    <tr>\n",
       "      <th>veh</th>\n",
       "      <th></th>\n",
       "      <th></th>\n",
       "      <th></th>\n",
       "      <th></th>\n",
       "      <th></th>\n",
       "      <th></th>\n",
       "      <th></th>\n",
       "      <th></th>\n",
       "      <th></th>\n",
       "      <th></th>\n",
       "      <th></th>\n",
       "      <th></th>\n",
       "      <th></th>\n",
       "      <th></th>\n",
       "      <th></th>\n",
       "      <th></th>\n",
       "      <th></th>\n",
       "      <th></th>\n",
       "      <th></th>\n",
       "    </tr>\n",
       "  </thead>\n",
       "  <tbody>\n",
       "    <tr>\n",
       "      <th>1</th>\n",
       "      <td>2</td>\n",
       "      <td>0.0</td>\n",
       "      <td>False</td>\n",
       "      <td>0</td>\n",
       "      <td>0</td>\n",
       "      <td>1024.0</td>\n",
       "      <td>30.0</td>\n",
       "      <td>0</td>\n",
       "      <td>40.0</td>\n",
       "      <td>0</td>\n",
       "      <td>647.0</td>\n",
       "      <td>0</td>\n",
       "      <td>60.0</td>\n",
       "      <td>395.0</td>\n",
       "      <td>0</td>\n",
       "      <td>0</td>\n",
       "      <td>0</td>\n",
       "      <td>0</td>\n",
       "      <td>8603.0</td>\n",
       "    </tr>\n",
       "  </tbody>\n",
       "</table>\n",
       "</div>"
      ],
      "text/plain": [
       "     nRIDES  nREJECTED    OUT  STARTS_DAY  OPENS_APP  RECEIVES_REQUEST  \\\n",
       "veh                                                                      \n",
       "1         2        0.0  False           0          0            1024.0   \n",
       "\n",
       "     ACCEPTS_REQUEST  REJECTS_REQUEST  IS_ACCEPTED_BY_TRAVELLER  \\\n",
       "veh                                                               \n",
       "1               30.0                0                      40.0   \n",
       "\n",
       "     IS_REJECTED_BY_TRAVELLER  ARRIVES_AT_PICKUP  MEETS_TRAVELLER_AT_PICKUP  \\\n",
       "veh                                                                           \n",
       "1                           0              647.0                          0   \n",
       "\n",
       "     DEPARTS_FROM_PICKUP  ARRIVES_AT_DROPOFF  CONTINUES_SHIFT  \\\n",
       "veh                                                             \n",
       "1                   60.0               395.0                0   \n",
       "\n",
       "     STARTS_REPOSITIONING  REPOSITIONED  DECIDES_NOT_TO_DRIVE  ENDS_SHIFT  \n",
       "veh                                                                        \n",
       "1                       0             0                     0      8603.0  "
      ]
     },
     "execution_count": 22,
     "metadata": {},
     "output_type": "execute_result"
    }
   ],
   "source": [
    "sim.res[0].veh_exp"
   ]
  },
  {
   "cell_type": "code",
   "execution_count": 23,
   "metadata": {},
   "outputs": [
    {
     "data": {
      "text/html": [
       "<div>\n",
       "<style scoped>\n",
       "    .dataframe tbody tr th:only-of-type {\n",
       "        vertical-align: middle;\n",
       "    }\n",
       "\n",
       "    .dataframe tbody tr th {\n",
       "        vertical-align: top;\n",
       "    }\n",
       "\n",
       "    .dataframe thead th {\n",
       "        text-align: right;\n",
       "    }\n",
       "</style>\n",
       "<table border=\"1\" class=\"dataframe\">\n",
       "  <thead>\n",
       "    <tr style=\"text-align: right;\">\n",
       "      <th></th>\n",
       "      <th>ACCEPTS_OFFER</th>\n",
       "      <th>ARRIVES_AT_DROPOFF</th>\n",
       "      <th>ARRIVES_AT_PICKUP</th>\n",
       "      <th>DEPARTS_FROM_PICKUP</th>\n",
       "      <th>MEETS_DRIVER_AT_PICKUP</th>\n",
       "      <th>REQUESTS_RIDE</th>\n",
       "      <th>SETS_OFF_FOR_DEST</th>\n",
       "      <th>STARTS_DAY</th>\n",
       "      <th>RECEIVES_OFFER</th>\n",
       "      <th>IS_REJECTED_BY_VEHICLE</th>\n",
       "      <th>REJECTS_OFFER</th>\n",
       "      <th>ARRIVES_AT_DEST</th>\n",
       "      <th>PREFERS_OTHER_SERVICE</th>\n",
       "      <th>LOSES_PATIENCE</th>\n",
       "    </tr>\n",
       "    <tr>\n",
       "      <th>pax</th>\n",
       "      <th></th>\n",
       "      <th></th>\n",
       "      <th></th>\n",
       "      <th></th>\n",
       "      <th></th>\n",
       "      <th></th>\n",
       "      <th></th>\n",
       "      <th></th>\n",
       "      <th></th>\n",
       "      <th></th>\n",
       "      <th></th>\n",
       "      <th></th>\n",
       "      <th></th>\n",
       "      <th></th>\n",
       "    </tr>\n",
       "  </thead>\n",
       "  <tbody>\n",
       "    <tr>\n",
       "      <th>0</th>\n",
       "      <td>15.0</td>\n",
       "      <td>236.0</td>\n",
       "      <td>20.0</td>\n",
       "      <td>30.0</td>\n",
       "      <td>432.0</td>\n",
       "      <td>NaN</td>\n",
       "      <td>10.0</td>\n",
       "      <td>0</td>\n",
       "      <td>0</td>\n",
       "      <td>0</td>\n",
       "      <td>0</td>\n",
       "      <td>0</td>\n",
       "      <td>0</td>\n",
       "      <td>0</td>\n",
       "    </tr>\n",
       "    <tr>\n",
       "      <th>1</th>\n",
       "      <td>15.0</td>\n",
       "      <td>159.0</td>\n",
       "      <td>20.0</td>\n",
       "      <td>30.0</td>\n",
       "      <td>215.0</td>\n",
       "      <td>1757.0</td>\n",
       "      <td>10.0</td>\n",
       "      <td>0</td>\n",
       "      <td>0</td>\n",
       "      <td>0</td>\n",
       "      <td>0</td>\n",
       "      <td>0</td>\n",
       "      <td>0</td>\n",
       "      <td>0</td>\n",
       "    </tr>\n",
       "  </tbody>\n",
       "</table>\n",
       "</div>"
      ],
      "text/plain": [
       "     ACCEPTS_OFFER  ARRIVES_AT_DROPOFF  ARRIVES_AT_PICKUP  \\\n",
       "pax                                                         \n",
       "0             15.0               236.0               20.0   \n",
       "1             15.0               159.0               20.0   \n",
       "\n",
       "     DEPARTS_FROM_PICKUP  MEETS_DRIVER_AT_PICKUP  REQUESTS_RIDE  \\\n",
       "pax                                                               \n",
       "0                   30.0                   432.0            NaN   \n",
       "1                   30.0                   215.0         1757.0   \n",
       "\n",
       "     SETS_OFF_FOR_DEST  STARTS_DAY  RECEIVES_OFFER  IS_REJECTED_BY_VEHICLE  \\\n",
       "pax                                                                          \n",
       "0                 10.0           0               0                       0   \n",
       "1                 10.0           0               0                       0   \n",
       "\n",
       "     REJECTS_OFFER  ARRIVES_AT_DEST  PREFERS_OTHER_SERVICE  LOSES_PATIENCE  \n",
       "pax                                                                         \n",
       "0                0                0                      0               0  \n",
       "1                0                0                      0               0  "
      ]
     },
     "execution_count": 23,
     "metadata": {},
     "output_type": "execute_result"
    }
   ],
   "source": [
    "sim.res[0].pax_exp.tail()"
   ]
  },
  {
   "cell_type": "markdown",
   "metadata": {},
   "source": [
    "-----"
   ]
  }
 ],
 "metadata": {
  "kernelspec": {
   "display_name": "Python 3",
   "language": "python",
   "name": "python3"
  },
  "language_info": {
   "codemirror_mode": {
    "name": "ipython",
    "version": 3
   },
   "file_extension": ".py",
   "mimetype": "text/x-python",
   "name": "python",
   "nbconvert_exporter": "python",
   "pygments_lexer": "ipython3",
   "version": "3.7.6"
  }
 },
 "nbformat": 4,
 "nbformat_minor": 4
}
