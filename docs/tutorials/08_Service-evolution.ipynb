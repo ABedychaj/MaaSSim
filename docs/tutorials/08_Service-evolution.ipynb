{
 "cells": [
  {
   "cell_type": "markdown",
   "metadata": {},
   "source": [
    "# Day-to-day evolution of supply and demand\n",
    "Module for simulating ridesourcing evolution\n",
    "\n",
    "Contribution by Arjan de Ruijter - a.j.f.deruijter@tudelft.nl"
   ]
  },
  {
   "cell_type": "code",
   "execution_count": 1,
   "metadata": {},
   "outputs": [],
   "source": [
    "%load_ext autoreload\n",
    "%autoreload 2\n",
    "import os, sys # add MaaSSim and MaaSSim/MaaSSim to path (not needed if already in path)\n",
    "module_path = os.path.abspath(os.path.join('../..'))\n",
    "if module_path not in sys.path:\n",
    "    sys.path.append(module_path)"
   ]
  },
  {
   "cell_type": "code",
   "execution_count": 2,
   "metadata": {},
   "outputs": [],
   "source": [
    "from MaaSSim.utils import save_config, get_config, load_G, generate_demand, initialize_df, empty_series, \\\n",
    "    slice_space, test_space\n",
    "from MaaSSim.maassim import Simulator\n",
    "from MaaSSim.data_structures import structures as inData\n",
    "from MaaSSim.d2d import *\n",
    "from MaaSSim.shared import prep_shared_rides"
   ]
  },
  {
   "cell_type": "code",
   "execution_count": 3,
   "metadata": {},
   "outputs": [],
   "source": [
    "import pandas as pd\n",
    "import logging\n",
    "import matplotlib.pyplot as plt"
   ]
  },
  {
   "cell_type": "code",
   "execution_count": 4,
   "metadata": {},
   "outputs": [],
   "source": [
    "# Load config\n",
    "params = get_config('../../data/config/delft.json')  # load configuration"
   ]
  },
  {
   "cell_type": "code",
   "execution_count": 5,
   "metadata": {},
   "outputs": [],
   "source": [
    "# Experiment replications and number of threads to be used\n",
    "params.parallel.nReplications = 1\n",
    "params.parallel.nThread = 3\n",
    "\n",
    "# Main experimental settings\n",
    "params.nP = 500 # travellers\n",
    "params.nV = 20 # drivers\n",
    "params.nD = 10 # days\n",
    "params.simTime = 8 # hours\n",
    "\n",
    "params.demand_structure.destinations_dispertion = -0.0003"
   ]
  },
  {
   "cell_type": "code",
   "execution_count": 6,
   "metadata": {},
   "outputs": [],
   "source": [
    "# Other day-to-day settings\n",
    "params.evol.drivers.omega = 5 # recency: until this day perfect memory, afterwards weight 1/recency for last experience\n",
    "params.evol.drivers.res_wage.mean = 80 #euros\n",
    "params.evol.drivers.res_wage.std = 10 #euros\n",
    "params.evol.drivers.init_inc_ratio = 1 #expected income of informed drivers at start of sim as ratio of res wage\n",
    "\n",
    "params.evol.drivers.inform.prob_start = 0.25 # probability of being informed at start of sim\n",
    "params.evol.drivers.inform.beta = 0.2 # information transmission rate\n",
    "\n",
    "params.evol.drivers.regist.prob_start = 1 # probability of being registered if informed at start of sim\n",
    "params.evol.drivers.regist.beta = 0.2 # registration choice model parameter\n",
    "params.evol.drivers.regist.cost_comp = 10 # daily share of registration costs (euros)\n",
    "params.evol.drivers.regist.samp = 0.2 # probability of making regist decision when informed (and unregistered)\n",
    "\n",
    "params.evol.drivers.particip.beta = 0.1 # participation choice model parameter\n",
    "params.evol.drivers.particip.probabilistic = True # stochasticity in participation choice\n",
    "\n",
    "params.evol.travellers.inform.prob_start = 0.5\n",
    "params.evol.travellers.inform.beta = 0.2\n",
    "\n",
    "# Financial settings\n",
    "params.platforms.base_fare = 1.4 #euro\n",
    "params.platforms.fare = 1.63 #euro/km\n",
    "params.platforms.min_fare = 6 # euro\n",
    "params.platforms.comm_rate = 0.25 #rate\n",
    "params.drivers.fuel_costs = 0.25 #euro/km\n",
    "\n",
    "# Properties alternative modes\n",
    "params.alt_modes.pt.base_fare = 0.99 # euro\n",
    "params.alt_modes.pt.km_fare = 0.174 # euro/km\n",
    "params.alt_modes.pt.access_time = 10 * 60  #s, includes egress (not waiting)\n",
    "params.alt_modes.pt.wait_time = 7.5 * 60 #s\n",
    "params.alt_modes.car.km_cost = 0.5 # euro/km\n",
    "params.alt_modes.car.access_time = 15 * 60 # s, includes egress\n",
    "params.speeds.bike = 4 # m/s\n",
    "\n",
    "# Mode choice parameters\n",
    "params.mode_choice.ASC_car = -0.5 # util, rel to bike\n",
    "params.mode_choice.ASC_rs = 0.5\n",
    "params.mode_choice.ASC_pt = -1.0\n",
    "params.mode_choice.beta_access = -0.0475 / 60 # util/s\n",
    "params.mode_choice.beta_cost = -0.1515 # util/euro\n",
    "params.mode_choice.beta_time_bike = -0.0693 / 60 #util/s\n",
    "params.mode_choice.beta_time_moto = -0.0106 / 60\n",
    "params.mode_choice.beta_wait_rs = -0.08 / 60\n",
    "params.mode_choice.beta_wait_pt = -0.0398 / 60\n",
    "\n",
    "# Demand settings\n",
    "params.demand_structure.origins_dispertion = -0.0003\n",
    "params.demand_structure.destinations_dispertion = -0.0003\n",
    "params.dist_threshold_min = 0 # min dist\n",
    "params.dist_threshold = 100000 # max dist\n",
    "\n",
    "# Start time\n",
    "params.t0 = pd.Timestamp.now()"
   ]
  },
  {
   "cell_type": "code",
   "execution_count": 7,
   "metadata": {},
   "outputs": [],
   "source": [
    "inData = load_G(inData, params, stats=True)  # download graph for the 'params.city' and calc the skim matrices\n",
    "inData = generate_demand(inData, params, avg_speed = True)\n",
    "inData.passengers['informed'] = np.random.rand(params.nP) < params.evol.travellers.inform.prob_start\n",
    "fixed_supply = generate_vehicles_d2d(inData, params)\n",
    "inData.vehicles = fixed_supply.copy()\n",
    "inData.vehicles.platform = inData.vehicles.apply(lambda x: 0, axis = 1)\n",
    "inData.passengers.platforms = inData.passengers.apply(lambda x: [0], axis = 1)\n",
    "inData.requests['platform'] = inData.requests.apply(lambda row: inData.passengers.loc[row.name].platforms[0], axis = 1) \n",
    "inData.platforms = pd.concat([inData.platforms,pd.DataFrame(columns=['base_fare','comm_rate','min_fare'])])\n",
    "inData.platforms = initialize_df(inData.platforms)\n",
    "inData.platforms.loc[0]=[params.platforms.fare,'Uber',30,params.platforms.base_fare,params.platforms.comm_rate,params.platforms.min_fare,]\n",
    "\n",
    "inData = prep_shared_rides(inData, params.shareability)  # prepare schedules"
   ]
  },
  {
   "cell_type": "code",
   "execution_count": null,
   "metadata": {},
   "outputs": [
    {
     "name": "stdout",
     "output_type": "stream",
     "text": [
      "11-03-21 09:58:44-WARNING-Setting up 8h simulation at 2021-03-11 05:58:45 for 20 vehicles and 500 passengers in Delft, Netherlands\n",
      "11-03-21 09:58:50-WARNING-day 0: simulation time 5.5 s\n",
      "11-03-21 09:58:50-WARNING-assertion tests for simulation results - passed\n",
      "11-03-21 09:58:57-WARNING-day 1: simulation time 6.1 s\n",
      "11-03-21 09:58:57-WARNING-assertion tests for simulation results - passed\n",
      "11-03-21 09:59:06-WARNING-day 2: simulation time 7.9 s\n",
      "11-03-21 09:59:07-WARNING-assertion tests for simulation results - passed\n",
      "11-03-21 09:59:17-WARNING-day 3: simulation time 8.6 s\n",
      "11-03-21 09:59:17-WARNING-assertion tests for simulation results - passed\n",
      "11-03-21 09:59:27-WARNING-day 4: simulation time 8.8 s\n",
      "11-03-21 09:59:27-WARNING-assertion tests for simulation results - passed\n",
      "11-03-21 09:59:37-WARNING-day 5: simulation time 9.3 s\n",
      "11-03-21 09:59:38-WARNING-assertion tests for simulation results - passed\n",
      "11-03-21 09:59:48-WARNING-day 6: simulation time 9.0 s\n",
      "11-03-21 09:59:48-WARNING-assertion tests for simulation results - passed\n",
      "11-03-21 09:59:58-WARNING-day 7: simulation time 8.9 s\n",
      "11-03-21 09:59:58-WARNING-assertion tests for simulation results - passed\n",
      "11-03-21 10:00:08-WARNING-day 8: simulation time 9.2 s\n",
      "11-03-21 10:00:09-WARNING-assertion tests for simulation results - passed\n"
     ]
    }
   ],
   "source": [
    "d2d = DotMap()\n",
    "d2d.drivers = dict()\n",
    "d2d.travs = dict()\n",
    "sim = Simulator(inData, params=params,\n",
    "                    kpi_veh = D2D_veh_exp,\n",
    "                    kpi_pax = D2D_kpi_pax,\n",
    "                    f_driver_out = D2D_driver_out,\n",
    "                    f_trav_out = d2d_no_request,\n",
    "                    f_trav_mode = pax_mode_choice,\n",
    "                    logger_level=logging.WARNING)  # initialize\n",
    "\n",
    "for day in range(params.get('nD', 1)):  # run iterations\n",
    "    sim.make_and_run(run_id=day)  # prepare and SIM\n",
    "    sim.output()  # calc results\n",
    "\n",
    "    d2d.drivers[day] = update_d2d_drivers(sim=sim,params=params)\n",
    "    d2d.travs[day] = update_d2d_travellers(sim=sim,params=params)\n",
    "    res_inf_driver = wom_driver(inData, params = params)\n",
    "    inData.vehicles.informed = res_inf_driver\n",
    "    res_regist = platform_regist(inData, d2d.drivers[day], params = params)\n",
    "    inData.vehicles.registered = res_regist.registered\n",
    "    inData.vehicles.expected_income = res_regist.expected_income\n",
    "    inData.vehicles.pos = fixed_supply.pos\n",
    "    res_inf_trav = wom_trav(inData, params = params)\n",
    "    inData.passengers.informed = res_inf_trav\n",
    "\n",
    "evol_micro, evol_agg = D2D_summary(d2d=d2d) # multi-day stats"
   ]
  },
  {
   "cell_type": "code",
   "execution_count": null,
   "metadata": {},
   "outputs": [],
   "source": [
    "# Plot number of drivers and income\n",
    "fig, axes = plt.subplots(nrows=1, ncols=4, figsize = (12,4.8))\n",
    "evol_agg.supply[['regist','inform','particip']].plot(ax = axes[0])\n",
    "axes[0].set_title('Number of drivers')\n",
    "axes[0].legend(['Informed','Registered','Participating'])\n",
    "evol_agg.supply[['mean_perc_inc','mean_exp_inc']].plot(ax = axes[1])\n",
    "axes[1].set_title('Driver income')\n",
    "axes[1].legend(['Expected','Experienced'])\n",
    "\n",
    "evol_agg.demand[['requests','gets_offer','accepts_offer']].plot(ax = axes[2])\n",
    "axes[2].set_title('Demand')\n",
    "axes[2].legend(['Requests','Offers','Accepted'])\n",
    "evol_agg.demand[['mean_wait']].plot(ax = axes[3])\n",
    "axes[3].set_title('Traveller waiting time')\n",
    "axes[3].legend(['Mean'])"
   ]
  }
 ],
 "metadata": {
  "kernelspec": {
   "display_name": "Python 3",
   "language": "python",
   "name": "python3"
  },
  "language_info": {
   "codemirror_mode": {
    "name": "ipython",
    "version": 3
   },
   "file_extension": ".py",
   "mimetype": "text/x-python",
   "name": "python",
   "nbconvert_exporter": "python",
   "pygments_lexer": "ipython3",
   "version": "3.9.0"
  }
 },
 "nbformat": 4,
 "nbformat_minor": 4
}
