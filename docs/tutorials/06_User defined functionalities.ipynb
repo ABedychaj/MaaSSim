{
 "cells": [
  {
   "cell_type": "markdown",
   "metadata": {},
   "source": [
    ">\n",
    "> # MaaS Sim tutorial\n",
    ">\n",
    "> ## External functionalities\n",
    ">\n",
    "-----\n",
    "example of simulations with various functionalities included"
   ]
  },
  {
   "cell_type": "code",
   "execution_count": 1,
   "metadata": {},
   "outputs": [],
   "source": [
    "%load_ext autoreload\n",
    "%autoreload 2"
   ]
  },
  {
   "cell_type": "code",
   "execution_count": 2,
   "metadata": {},
   "outputs": [],
   "source": [
    "import os, sys # add MaaSSim to path (not needed if MaaSSim is already in path)\n",
    "module_path = os.path.abspath(os.path.join('../..'))\n",
    "if module_path not in sys.path:\n",
    "    sys.path.append(module_path)\n",
    "import random"
   ]
  },
  {
   "cell_type": "code",
   "execution_count": 3,
   "metadata": {},
   "outputs": [],
   "source": [
    "from MaaSSim.utils import get_config, load_G, prep_supply_and_demand  # simulator\n",
    "from MaaSSim.traveller import travellerEvent\n",
    "from MaaSSim.driver import driverEvent\n",
    "from MaaSSim.data_structures import structures as inData\n",
    "from MaaSSim.simulators import simulate\n",
    "from MaaSSim.decisions import dummy_False\n",
    "import pandas as pd\n",
    "import logging"
   ]
  },
  {
   "cell_type": "code",
   "execution_count": 4,
   "metadata": {},
   "outputs": [],
   "source": [
    "params = get_config('../../data/config/default.json')  # load configuration"
   ]
  },
  {
   "cell_type": "code",
   "execution_count": 5,
   "metadata": {},
   "outputs": [],
   "source": [
    "params.times.patience = 200  # 1 hour of simulation\n",
    "params.simTime = 1  # 1 hour of simulation\n",
    "params.nP = 10  # reuqests (and passengers)\n",
    "params.nV = 10  # vehicles\n",
    "params.nD = 1"
   ]
  },
  {
   "cell_type": "markdown",
   "metadata": {},
   "source": [
    "user defined functions to reject with probability of 20 and 80% respectively, passed to MaaSSim by reference and called from simulator"
   ]
  },
  {
   "cell_type": "code",
   "execution_count": 6,
   "metadata": {},
   "outputs": [],
   "source": [
    "def rand_reject8(**kwargs):\n",
    "    return random.random()>=0.2\n",
    "\n",
    "def rand_reject2(**kwargs):\n",
    "    return random.random()>=0.8"
   ]
  },
  {
   "cell_type": "code",
   "execution_count": 14,
   "metadata": {},
   "outputs": [],
   "source": [
    "params = get_config('../../data/config/delft.json')  # load configuration\n",
    "params.times.patience = 300  # 1 hour of simulation\n",
    "params.simTime = 1  # 1 hour of simulation\n",
    "params.nP = 10  # reuqests (and passengers)\n",
    "params.nV = 10  # vehicles\n",
    "params.nD = 1"
   ]
  },
  {
   "cell_type": "code",
   "execution_count": 15,
   "metadata": {},
   "outputs": [],
   "source": [
    "from MaaSSim.decisions import f_decline"
   ]
  },
  {
   "cell_type": "code",
   "execution_count": 16,
   "metadata": {},
   "outputs": [
    {
     "name": "stdout",
     "output_type": "stream",
     "text": [
      "13-10-20 11:45:00-WARNING-Setting up 1h simulation at 2020-10-13 11:22:26 for 10 vehicles and 10 passengers in Delft, Netherlands\n",
      "13-10-20 11:45:01-WARNING-pax    9  got rejected by vehicle 6                2020-10-13 12:09:00\n",
      "13-10-20 11:45:01-WARNING-pax    9  got rejected by vehicle 8                2020-10-13 12:09:00\n",
      "13-10-20 11:45:01-WARNING-pax    9  got rejected by vehicle 3                2020-10-13 12:09:00\n",
      "13-10-20 11:45:01-WARNING-pax    9  got rejected by vehicle 1                2020-10-13 12:09:00\n",
      "13-10-20 11:45:01-WARNING-pax    9  got rejected by vehicle 2                2020-10-13 12:09:00\n",
      "13-10-20 11:45:01-WARNING-pax    9  got rejected by vehicle 7                2020-10-13 12:09:00\n",
      "13-10-20 11:45:01-WARNING-pax    9  got rejected by vehicle 9                2020-10-13 12:09:00\n",
      "13-10-20 11:45:01-WARNING-pax    9  got rejected by vehicle 5                2020-10-13 12:09:00\n",
      "13-10-20 11:45:01-WARNING-Nobody likes each other, Qs 9veh; 1req; tabu 9\n",
      "13-10-20 11:45:01-WARNING-pax    9  got rejected by vehicle 4                2020-10-13 12:10:24\n",
      "13-10-20 11:45:01-WARNING-Nobody likes each other, Qs 10veh; 1req; tabu 10\n",
      "13-10-20 11:45:01-WARNING-simulation time 0.6 s\n",
      "13-10-20 11:45:01-WARNING-assertion tests for simulation results - passed\n"
     ]
    }
   ],
   "source": [
    "sim = simulate(params=params, f_trav_mode=dummy_False,f_driver_decline=f_decline,f_platform_choice=dummy_False, logger_level = logging.WARNING)"
   ]
  },
  {
   "cell_type": "code",
   "execution_count": null,
   "metadata": {},
   "outputs": [],
   "source": [
    "# no functions\n",
    "sim2 = simulate(params=params, f_trav_mode=dummy_False,f_driver_decline=dummy_False,f_platform_choice=dummy_False, logger_level = logging.CRITICAL)\n",
    "# driver request decline behaviour\n",
    "sim2.make_and_run(f_trav_mode=dummy_False,\n",
    "                      f_driver_decline=rand_reject8)\n",
    "# traveller rejects offers\n",
    "sim2.make_and_run(f_trav_mode=rand_reject8,\n",
    "                      f_driver_decline=dummy_False)\n",
    "# both reject\n",
    "sim2.make_and_run(f_trav_mode=rand_reject8,\n",
    "                      f_driver_decline=rand_reject8)"
   ]
  },
  {
   "cell_type": "code",
   "execution_count": null,
   "metadata": {},
   "outputs": [],
   "source": [
    "import matplotlib.pyplot as plt\n",
    "titles = 'no functions','driver request decline behaviour','traveller rejects offers', 'both reject'\n",
    "fig, ax = plt.subplots(4,2, figsize = (20,10))\n",
    "for i in range(4):\n",
    "    df = sim2.runs[i].trips.groupby('event').size().to_frame()\n",
    "    df.plot(kind='barh', ax = ax[i][0], title = titles[i]+ \" travellers\")\n",
    "    df = sim2.runs[i].rides.groupby('event').size().to_frame()\n",
    "    df.plot(kind='barh', ax = ax[i][1], title =  \" drivers\")\n",
    "fig.tight_layout()"
   ]
  },
  {
   "cell_type": "markdown",
   "metadata": {},
   "source": [
    "> driver repositioning"
   ]
  },
  {
   "cell_type": "code",
   "execution_count": null,
   "metadata": {},
   "outputs": [],
   "source": [
    "from MaaSSim.driver import VehicleAgent, driverEvent\n",
    "from MaaSSim.decisions import f_repos, f_dummy_repos\n",
    "sim = simulate(inData, params = params, _print = False, f_driver_repos = f_repos, f_trav_mode=dummy_False, f_driver_decline=dummy_False,f_platform_choice=dummy_False, logger_level = logging.WARNING) \n",
    "pd.DataFrame(sim.runs[0].rides.event.unique())"
   ]
  },
  {
   "cell_type": "code",
   "execution_count": null,
   "metadata": {},
   "outputs": [],
   "source": [
    "driver = sim.vehs[3]"
   ]
  },
  {
   "cell_type": "code",
   "execution_count": null,
   "metadata": {},
   "outputs": [],
   "source": [
    "sim.inData.nodes.sample(1).squeeze().name"
   ]
  },
  {
   "cell_type": "markdown",
   "metadata": {},
   "source": [
    "---"
   ]
  }
 ],
 "metadata": {
  "kernelspec": {
   "display_name": "Python 3",
   "language": "python",
   "name": "python3"
  },
  "language_info": {
   "codemirror_mode": {
    "name": "ipython",
    "version": 3
   },
   "file_extension": ".py",
   "mimetype": "text/x-python",
   "name": "python",
   "nbconvert_exporter": "python",
   "pygments_lexer": "ipython3",
   "version": "3.7.6"
  }
 },
 "nbformat": 4,
 "nbformat_minor": 4
}
